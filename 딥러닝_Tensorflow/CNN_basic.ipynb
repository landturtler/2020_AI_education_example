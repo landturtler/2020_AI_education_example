{
 "cells": [
  {
   "cell_type": "markdown",
   "metadata": {},
   "source": [
    "### 정확도 향상 방안\n",
    "1. AdamOptimizer사용\n",
    "2. ReLU 사용\n",
    "3. xavier_initializer사용: weight의 초기값을 할당\n",
    "4. DNN 사용 : 3층 --> 5층\n",
    "5. dropout 사용\n",
    "\n",
    "약 97%으로 향상\n",
    "\n",
    "6. CNN(합성곱 신경망)\n",
    "7. ensemble 사용\n",
    "\n",
    "약 99.5%으로 향상"
   ]
  },
  {
   "cell_type": "code",
   "execution_count": 1,
   "metadata": {},
   "outputs": [
    {
     "name": "stdout",
     "output_type": "stream",
     "text": [
      "30\n",
      "30\n"
     ]
    }
   ],
   "source": [
    "# tf.IntereractiveSession()\n",
    "import tensorflow as tf\n",
    "import numpy as np\n",
    "import matplotlib.pyplot as plt\n",
    "\n",
    "sess = tf.InteractiveSession()\n",
    "\n",
    "a = tf.constant(10)\n",
    "b = tf.constant(20)\n",
    "add_node = tf.add(a,b)\n",
    "\n",
    "print(add_node.eval())\n",
    "print(sess.run(add_node))\n"
   ]
  },
  {
   "cell_type": "code",
   "execution_count": 2,
   "metadata": {},
   "outputs": [
    {
     "data": {
      "text/plain": [
       "100"
      ]
     },
     "execution_count": 2,
     "metadata": {},
     "output_type": "execute_result"
    }
   ],
   "source": [
    "c = tf.constant(100)\n",
    "c.eval()"
   ]
  },
  {
   "cell_type": "code",
   "execution_count": 3,
   "metadata": {},
   "outputs": [
    {
     "data": {
      "image/png": "[encoded data removed]",
      "text/plain": [
       "<Figure size 432x288 with 1 Axes>"
      ]
     },
     "metadata": {
      "needs_background": "light"
     },
     "output_type": "display_data"
    }
   ],
   "source": [
    "# CNN(Convolutional Neural Network)\n",
    "# conv2d 출력 이미지 = (N - F)/stride + 1\n",
    "\n",
    "import tensorflow as tf\n",
    "import numpy as np\n",
    "import matplotlib.pyplot as plt\n",
    "\n",
    "# (1,3,3,1) , 3*3 Greyscale toy image,원본 입력이미지\n",
    "# 1 : 이미지의 갯수\n",
    "# 3 : 가로 픽셀수\n",
    "# 3 : 세로 픽셀수\n",
    "# 1 : color수,Grey \n",
    "image = np.array([[[[1],[2],[3]],\n",
    "                   [[4],[5],[6]],\n",
    "                   [[7],[8],[9]]]],dtype=np.float32)\n",
    "# print(image)\n",
    "image.shape #(1, 3, 3, 1)\n",
    "plt.imshow(image.reshape(3,3),cmap='Greys')\n",
    "plt.show()"
   ]
  },
  {
   "cell_type": "code",
   "execution_count": 4,
   "metadata": {},
   "outputs": [],
   "source": [
    "# sess = tf.InteractiveSession()\n",
    "# a = tf.constant(10)\n",
    "# b = tf.constant(20)\n",
    "# add_node = tf.add(a,b)\n",
    "# print(add_node.eval())"
   ]
  },
  {
   "cell_type": "code",
   "execution_count": 5,
   "metadata": {},
   "outputs": [
    {
     "name": "stdout",
     "output_type": "stream",
     "text": [
      "[[[[12.]\n",
      "   [16.]]\n",
      "\n",
      "  [[24.]\n",
      "   [28.]]]]\n",
      "[[12. 16.]\n",
      " [24. 28.]]\n"
     ]
    },
    {
     "name": "stderr",
     "output_type": "stream",
     "text": [
      "C:\\ProgramData\\Anaconda3\\lib\\site-packages\\tensorflow_core\\python\\client\\session.py:1750: UserWarning: An interactive session is already active. This can cause out-of-memory errors in some cases. You must explicitly call `InteractiveSession.close()` to release resources held by the other session(s).\n",
      "  warnings.warn('An interactive session is already active. This can '\n"
     ]
    },
    {
     "data": {
      "image/png": "[encoded data removed]",
      "text/plain": [
       "<Figure size 432x288 with 1 Axes>"
      ]
     },
     "metadata": {
      "needs_background": "light"
     },
     "output_type": "display_data"
    }
   ],
   "source": [
    "# conv2d, Padding\n",
    "# image :(1, 3, 3, 1), filter: (2,2,1,1), stride:(1,1)\n",
    "# filter: (2,2,1,1)\n",
    "# 2 : 가로 갯수\n",
    "# 2 : 세로 갯수\n",
    "# 1 : color\n",
    "# 1 : filter의 갯수\n",
    "\n",
    "# (N - F)/stride + 1 공식을 사용\n",
    "# (3 - 2)/1 + 1 = 2  ,zero padding을 안했을 때\n",
    "# (4 - 2)/1 + 1 = 3  ,zero padding을 했을 때\n",
    "\n",
    "# padding을 안했을 때 : 'VALID'\n",
    "# 출력이미지 : (1,2,2,1)\n",
    "sess = tf.InteractiveSession()\n",
    "# filter: (2,2,1,1)\n",
    "weight = tf.constant([[[[1.]],[[1.]]],\n",
    "                      [[[1.]],[[1.]]]])\n",
    "conv2d = tf.nn.conv2d(image,weight,strides=[1,1,1,1],\n",
    "                     padding='VALID')\n",
    "conv2d_img = conv2d.eval()  # (1,2,2,1)\n",
    "print(conv2d_img)\n",
    "# print('conv2d_img shape:',conv2d_img.shape)\n",
    "\n",
    "# 시각화\n",
    "for i,one_image in enumerate(conv2d_img):\n",
    "    print(one_image.reshape(2,2))  \n",
    "    plt.imshow(one_image.reshape(2,2),cmap='Greys')\n",
    "plt.show()"
   ]
  },
  {
   "cell_type": "code",
   "execution_count": 6,
   "metadata": {},
   "outputs": [
    {
     "name": "stdout",
     "output_type": "stream",
     "text": [
      "[[[[12.]\n",
      "   [16.]\n",
      "   [ 9.]]\n",
      "\n",
      "  [[24.]\n",
      "   [28.]\n",
      "   [15.]]\n",
      "\n",
      "  [[15.]\n",
      "   [17.]\n",
      "   [ 9.]]]]\n",
      "conv2d_img shape: (1, 3, 3, 1)\n",
      "[[12. 16.  9.]\n",
      " [24. 28. 15.]\n",
      " [15. 17.  9.]]\n"
     ]
    },
    {
     "data": {
      "image/png": "[encoded data removed]",
      "text/plain": [
       "<Figure size 432x288 with 1 Axes>"
      ]
     },
     "metadata": {
      "needs_background": "light"
     },
     "output_type": "display_data"
    }
   ],
   "source": [
    "# padding을 했을 때 : 'SAME'\n",
    "# image :(1, 3, 3, 1), filter: (2,2,1,1), stride:(1,1)\n",
    "# 출력이미지 : (1,3,3,1)\n",
    "# sess = tf.InteractiveSession()\n",
    "# filter: (2,2,1,1)\n",
    "weight = tf.constant([[[[1.]],[[1.]]],\n",
    "                      [[[1.]],[[1.]]]])\n",
    "conv2d = tf.nn.conv2d(image,weight,strides=[1,1,1,1],\n",
    "                     padding='SAME')\n",
    "conv2d_img = conv2d.eval()  # (1,3,3,1)\n",
    "\n",
    "# (1,3,3,1)\n",
    "# 1 : color\n",
    "# (N - F)/stride + 1\n",
    "# ( 3+1 - 2)/1 + 1 --> 3\n",
    "# ( 3+1 - 2)/1 + 1 --> 3\n",
    "# 1: 이미지의 갯수(사용된 필터의 갯수)\n",
    "print(conv2d_img)\n",
    "print('conv2d_img shape:',conv2d_img.shape)\n",
    "\n",
    "# 시각화\n",
    "for i,one_image in enumerate(conv2d_img):\n",
    "    print(one_image.reshape(3,3))  \n",
    "    plt.imshow(one_image.reshape(3,3),cmap='Greys')\n",
    "plt.show()"
   ]
  },
  {
   "cell_type": "code",
   "execution_count": 7,
   "metadata": {},
   "outputs": [
    {
     "name": "stdout",
     "output_type": "stream",
     "text": [
      "conv2d_img.shape: (1, 3, 3, 3)\n",
      "conv2d_img.shape: (3, 3, 3, 1)\n",
      "[[12. 16.  9.]\n",
      " [24. 28. 15.]\n",
      " [15. 17.  9.]]\n",
      "[[120. 160.  90.]\n",
      " [240. 280. 150.]\n",
      " [150. 170.  90.]]\n",
      "[[-12. -16.  -9.]\n",
      " [-24. -28. -15.]\n",
      " [-15. -17.  -9.]]\n"
     ]
    },
    {
     "data": {
      "image/png": "[encoded data removed]",
      "text/plain": [
       "<Figure size 432x288 with 3 Axes>"
      ]
     },
     "metadata": {
      "needs_background": "light"
     },
     "output_type": "display_data"
    }
   ],
   "source": [
    "# conv2d : 3 filters, Padding : SAME (zero padding 함)\n",
    "# image : (1,3,3,1) , Filter: (2,2,1,3), stride : (1,1)\n",
    "# 출력 이미지 : (1,3,3,3)\n",
    "# 1 : color\n",
    "# (N - F)/stride + 1\n",
    "# ( 3+1 - 2)/1 + 1 --> 3\n",
    "# ( 3+1 - 2)/1 + 1 --> 3\n",
    "# 3: 이미지의 갯수(사용된 필터의 갯수)\n",
    "# filter : (2,2,1,3)\n",
    "weight = tf.constant([[[[1.,10.,-1.]],[[1.,10.,-1.]]],\n",
    "                      [[[1.,10.,-1.]],[[1.,10.,-1.]]]])\n",
    "conv2d = tf.nn.conv2d(image,weight,strides=[1,1,1,1],\n",
    "                     padding='SAME')\n",
    "conv2d_img = conv2d.eval()  # (1,3,3,3)\n",
    "print('conv2d_img.shape:',conv2d_img.shape) # (1,3,3,3)\n",
    "conv2d_img = np.swapaxes(conv2d_img,0,3)    # (3, 3, 3, 1)\n",
    "print('conv2d_img.shape:',conv2d_img.shape)  \n",
    "\n",
    "# 시각화\n",
    "for i,one_image in enumerate(conv2d_img):\n",
    "    print(one_image.reshape(3,3))  \n",
    "    plt.subplot(1,3,i + 1)\n",
    "    plt.imshow(one_image.reshape(3,3),cmap='Greys')\n",
    "plt.show()"
   ]
  },
  {
   "cell_type": "code",
   "execution_count": 8,
   "metadata": {},
   "outputs": [
    {
     "name": "stdout",
     "output_type": "stream",
     "text": [
      "(1, 2, 2, 1)\n"
     ]
    },
    {
     "data": {
      "image/png": "[encoded data removed]",
      "text/plain": [
       "<Figure size 432x288 with 1 Axes>"
      ]
     },
     "metadata": {
      "needs_background": "light"
     },
     "output_type": "display_data"
    }
   ],
   "source": [
    "# max pooling  : (1,2,2,1)  --> (1,2,2,1) , Padding:'SAME'\n",
    "image = np.array([[[[4],[3]],\n",
    "                   [[2],[1]]]],dtype=np.float32)\n",
    "print(image.shape)\n",
    "# image\n",
    "plt.imshow(image.reshape(2,2),cmap='Greys')\n",
    "plt.show()"
   ]
  },
  {
   "cell_type": "code",
   "execution_count": 9,
   "metadata": {},
   "outputs": [
    {
     "name": "stdout",
     "output_type": "stream",
     "text": [
      "(1, 1, 1, 1)\n",
      "[[[[4.]]]]\n"
     ]
    }
   ],
   "source": [
    "# image : (1,2,2,1)\n",
    "pool = tf.nn.max_pool(image,ksize=[1,2,2,1],strides=[1,1,1,1],\n",
    "                     padding='VALID')\n",
    "print(pool.shape)\n",
    "print(pool.eval())"
   ]
  },
  {
   "cell_type": "code",
   "execution_count": 10,
   "metadata": {},
   "outputs": [
    {
     "name": "stdout",
     "output_type": "stream",
     "text": [
      "WARNING:tensorflow:From <ipython-input-10-3871eb7c6669>:3: read_data_sets (from tensorflow.contrib.learn.python.learn.datasets.mnist) is deprecated and will be removed in a future version.\n",
      "Instructions for updating:\n",
      "Please use alternatives such as official/mnist/dataset.py from tensorflow/models.\n",
      "WARNING:tensorflow:From C:\\ProgramData\\Anaconda3\\lib\\site-packages\\tensorflow_core\\contrib\\learn\\python\\learn\\datasets\\mnist.py:260: maybe_download (from tensorflow.contrib.learn.python.learn.datasets.base) is deprecated and will be removed in a future version.\n",
      "Instructions for updating:\n",
      "Please write your own downloading logic.\n",
      "WARNING:tensorflow:From C:\\ProgramData\\Anaconda3\\lib\\site-packages\\tensorflow_core\\contrib\\learn\\python\\learn\\datasets\\mnist.py:262: extract_images (from tensorflow.contrib.learn.python.learn.datasets.mnist) is deprecated and will be removed in a future version.\n",
      "Instructions for updating:\n",
      "Please use tf.data to implement this functionality.\n",
      "Extracting Data/mnist\\train-images-idx3-ubyte.gz\n",
      "WARNING:tensorflow:From C:\\ProgramData\\Anaconda3\\lib\\site-packages\\tensorflow_core\\contrib\\learn\\python\\learn\\datasets\\mnist.py:267: extract_labels (from tensorflow.contrib.learn.python.learn.datasets.mnist) is deprecated and will be removed in a future version.\n",
      "Instructions for updating:\n",
      "Please use tf.data to implement this functionality.\n",
      "Extracting Data/mnist\\train-labels-idx1-ubyte.gz\n",
      "WARNING:tensorflow:From C:\\ProgramData\\Anaconda3\\lib\\site-packages\\tensorflow_core\\contrib\\learn\\python\\learn\\datasets\\mnist.py:110: dense_to_one_hot (from tensorflow.contrib.learn.python.learn.datasets.mnist) is deprecated and will be removed in a future version.\n",
      "Instructions for updating:\n",
      "Please use tf.one_hot on tensors.\n",
      "Extracting Data/mnist\\t10k-images-idx3-ubyte.gz\n",
      "Extracting Data/mnist\\t10k-labels-idx1-ubyte.gz\n",
      "WARNING:tensorflow:From C:\\ProgramData\\Anaconda3\\lib\\site-packages\\tensorflow_core\\contrib\\learn\\python\\learn\\datasets\\mnist.py:290: DataSet.__init__ (from tensorflow.contrib.learn.python.learn.datasets.mnist) is deprecated and will be removed in a future version.\n",
      "Instructions for updating:\n",
      "Please use alternatives such as official/mnist/dataset.py from tensorflow/models.\n",
      "[0. 0. 0. 0. 0. 0. 0. 1. 0. 0.]\n"
     ]
    },
    {
     "data": {
      "image/png": "[encoded data removed]",
      "text/plain": [
       "<Figure size 432x288 with 1 Axes>"
      ]
     },
     "metadata": {
      "needs_background": "light"
     },
     "output_type": "display_data"
    }
   ],
   "source": [
    "# MNIST image data loading\n",
    "from tensorflow.examples.tutorials.mnist import input_data\n",
    "mnist = input_data.read_data_sets('Data/mnist',one_hot=True)\n",
    "\n",
    "image = mnist.train.images[0].reshape(28,28)\n",
    "print(mnist.train.labels[0]) # 7\n",
    "# print(image)\n",
    "plt.imshow(image,cmap='Greys')\n",
    "plt.show()"
   ]
  },
  {
   "cell_type": "code",
   "execution_count": 11,
   "metadata": {},
   "outputs": [
    {
     "name": "stdout",
     "output_type": "stream",
     "text": [
      "(1, 14, 14, 5)\n",
      "(5, 14, 14, 1)\n"
     ]
    },
    {
     "data": {
      "image/png": "[encoded data removed]",
      "text/plain": [
       "<Figure size 432x288 with 5 Axes>"
      ]
     },
     "metadata": {
      "needs_background": "light"
     },
     "output_type": "display_data"
    }
   ],
   "source": [
    "# MNIST Convolution layer\n",
    "# image : (1,28,28,1)\n",
    "img = image.reshape(-1,28,28,1)\n",
    "img.shape\n",
    "\n",
    "W = tf.Variable(tf.random_normal([3,3,1,5]),name='weight')\n",
    "\n",
    "conv2d = tf.nn.conv2d(img,W,strides=[1,2,2,1],\n",
    "                     padding=\"SAME\")\n",
    "# (28 - 3)/2 + 1  --> 14\n",
    "sess.run(tf.global_variables_initializer())\n",
    "conv2d_img = conv2d.eval()\n",
    "print(conv2d_img.shape) # shape=(1, 14, 14, 5)\n",
    "conv2d_img = np.swapaxes(conv2d_img,0,3)\n",
    "print(conv2d_img.shape) # shape=(5, 14, 14, 1)\n",
    "\n",
    "# 시각화\n",
    "for i,one_image in enumerate(conv2d_img):\n",
    "#     print(one_image.reshape(14,14))  \n",
    "    plt.subplot(1,5,i + 1)\n",
    "    plt.imshow(one_image.reshape(14,14),cmap='Greys')\n",
    "plt.show()"
   ]
  },
  {
   "cell_type": "code",
   "execution_count": 12,
   "metadata": {},
   "outputs": [
    {
     "name": "stdout",
     "output_type": "stream",
     "text": [
      "(1, 7, 7, 5)\n",
      "(5, 7, 7, 1)\n"
     ]
    },
    {
     "data": {
      "image/png": "[encoded data removed]",
      "text/plain": [
       "<Figure size 432x288 with 5 Axes>"
      ]
     },
     "metadata": {
      "needs_background": "light"
     },
     "output_type": "display_data"
    }
   ],
   "source": [
    "# MNIST Max Pooling\n",
    "# conv2d : (1, 14, 14, 5), kernel size:(2,2),strides:(2,2),\n",
    "# padding:'SAME'\n",
    "# Output image : (1,7,7,5)\n",
    "# (N-F)/stride + 1\n",
    "# (15-2)/2 + 1 => 7\n",
    "pool = tf.nn.max_pool(conv2d,ksize=[1,2,2,1],strides=[1,2,2,1],\\\n",
    "                      padding='SAME')\n",
    "pool_img = pool.eval()\n",
    "print(pool_img.shape) # (1, 7, 7, 5)\n",
    "pool_img = np.swapaxes(pool_img,0,3)\n",
    "print(pool_img.shape) # (5, 7, 7, 1)\n",
    "\n",
    "# 시각화\n",
    "for i,one_image in enumerate(pool_img):\n",
    "    plt.subplot(1,5,i + 1)\n",
    "    plt.imshow(one_image.reshape(7,7),cmap='Greys')\n",
    "plt.show()"
   ]
  },
  {
   "cell_type": "code",
   "execution_count": null,
   "metadata": {},
   "outputs": [],
   "source": []
  }
 ],
 "metadata": {
  "kernelspec": {
   "display_name": "Python 3",
   "language": "python",
   "name": "python3"
  },
  "language_info": {
   "codemirror_mode": {
    "name": "ipython",
    "version": 3
   },
   "file_extension": ".py",
   "mimetype": "text/x-python",
   "name": "python",
   "nbconvert_exporter": "python",
   "pygments_lexer": "ipython3",
   "version": "3.7.4"
  }
 },
 "nbformat": 4,
 "nbformat_minor": 2
}
