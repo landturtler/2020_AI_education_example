{
 "cells": [
  {
   "cell_type": "code",
   "execution_count": 32,
   "metadata": {},
   "outputs": [
    {
     "name": "stderr",
     "output_type": "stream",
     "text": [
      "C:\\ProgramData\\Anaconda3\\lib\\site-packages\\tensorflow_core\\python\\client\\session.py:1750: UserWarning: An interactive session is already active. This can cause out-of-memory errors in some cases. You must explicitly call `InteractiveSession.close()` to release resources held by the other session(s).\n",
      "  warnings.warn('An interactive session is already active. This can '\n"
     ]
    },
    {
     "name": "stdout",
     "output_type": "stream",
     "text": [
      "[[[[1.]\n",
      "   [2.]\n",
      "   [3.]]\n",
      "\n",
      "  [[4.]\n",
      "   [5.]\n",
      "   [6.]]\n",
      "\n",
      "  [[7.]\n",
      "   [8.]\n",
      "   [9.]]]]\n",
      "(1, 3, 3, 1)\n",
      "[[1. 2. 3.]\n",
      " [4. 5. 6.]\n",
      " [7. 8. 9.]]\n"
     ]
    },
    {
     "data": {
      "image/png": "[encoded data removed]",
      "text/plain": [
       "<Figure size 432x288 with 1 Axes>"
      ]
     },
     "metadata": {
      "needs_background": "light"
     },
     "output_type": "display_data"
    }
   ],
   "source": [
    "# cnn_basic.py\n",
    "\n",
    "import tensorflow as tf\n",
    "import numpy as np\n",
    "import matplotlib.pyplot as plt\n",
    "\n",
    "sess = tf.InteractiveSession()\n",
    "#\n",
    "# a = tf.constant(10)\n",
    "# b = tf.constant(20)\n",
    "# add_node = tf.add(a,b)\n",
    "#\n",
    "# print(add_node.eval())\n",
    "# print(sess.run(add_node))\n",
    "\n",
    "image = np.array([[[[1],[2],[3]],\n",
    "                   [[4],[5],[6]],\n",
    "                   [[7],[8],[9]]]], dtype=np.float32)\n",
    "print(image)\n",
    "print(image.shape)  # (1,3,3,1)\n",
    "plt.imshow(image.reshape(3,3),cmap='Greys')\n",
    "print(image.reshape(3,3))\n",
    "plt.show()"
   ]
  },
  {
   "cell_type": "code",
   "execution_count": 2,
   "metadata": {},
   "outputs": [
    {
     "name": "stdout",
     "output_type": "stream",
     "text": [
      "[[[[12.]\n",
      "   [16.]]\n",
      "\n",
      "  [[24.]\n",
      "   [28.]]]]\n"
     ]
    },
    {
     "data": {
      "image/png": "[encoded data removed]",
      "text/plain": [
       "<Figure size 432x288 with 1 Axes>"
      ]
     },
     "metadata": {
      "needs_background": "light"
     },
     "output_type": "display_data"
    }
   ],
   "source": [
    "# CNN(Convolutional Neural Network)\n",
    "# conv2d layer   , filter (2,2,1,1)\n",
    "#  출력 이미지 = (N - F)/stride  + 1\n",
    "\n",
    "# image (1,3,3,1)\n",
    "# 1 : 이미지의 갯수\n",
    "# 3 : 가로 픽셀수\n",
    "# 3 : 세로 픽셀 수\n",
    "# 1 : color, Greyscale = 1\n",
    "\n",
    "# filter (2,2,1,1)\n",
    "# 2 : 가로 갯수\n",
    "# 2 : 세로 갯수\n",
    "# 1 : color\n",
    "# 1 : filter의 갯수\n",
    "#\n",
    "# 출력 이미지 = (3 - 2)/1 + 1 = 2, zero padding을 안했을 때\n",
    "weight = tf.constant([[[[1.]],[[1.]]],\n",
    "                      [[[1.]],[[1.]]]])\n",
    "conv2d = tf.nn.conv2d(image,weight,strides=[1,1,1,1],padding='VALID')\n",
    "conv2d_img = conv2d.eval()\n",
    "print(conv2d_img)  # (1,2,2,1)\n",
    "plt.imshow(conv2d_img.reshape(2,2),cmap='Greys')\n",
    "plt.show()"
   ]
  },
  {
   "cell_type": "code",
   "execution_count": 3,
   "metadata": {},
   "outputs": [
    {
     "name": "stdout",
     "output_type": "stream",
     "text": [
      "[[[[12.]\n",
      "   [16.]\n",
      "   [ 9.]]\n",
      "\n",
      "  [[24.]\n",
      "   [28.]\n",
      "   [15.]]\n",
      "\n",
      "  [[15.]\n",
      "   [17.]\n",
      "   [ 9.]]]]\n"
     ]
    },
    {
     "data": {
      "image/png": "[encoded data removed]",
      "text/plain": [
       "<Figure size 432x288 with 1 Axes>"
      ]
     },
     "metadata": {
      "needs_background": "light"
     },
     "output_type": "display_data"
    }
   ],
   "source": [
    "# 출력 이미지 = (3+1 - 2)/1 + 1 = 3, zero padding을 했을 때(padding='SAME')\n",
    "weight = tf.constant([[[[1.]],[[1.]]],\n",
    "                      [[[1.]],[[1.]]]])\n",
    "conv2d = tf.nn.conv2d(image,weight,strides=[1,1,1,1],padding='SAME')\n",
    "conv2d_img = conv2d.eval()\n",
    "print(conv2d_img)  # (1,3,3,1)\n",
    "plt.imshow(conv2d_img.reshape(3,3),cmap='Greys')\n",
    "plt.show()"
   ]
  },
  {
   "cell_type": "code",
   "execution_count": 33,
   "metadata": {},
   "outputs": [
    {
     "name": "stdout",
     "output_type": "stream",
     "text": [
      "[[[[ 12. 120. -12.]\n",
      "   [ 16. 160. -16.]\n",
      "   [  9.  90.  -9.]]\n",
      "\n",
      "  [[ 24. 240. -24.]\n",
      "   [ 28. 280. -28.]\n",
      "   [ 15. 150. -15.]]\n",
      "\n",
      "  [[ 15. 150. -15.]\n",
      "   [ 17. 170. -17.]\n",
      "   [  9.  90.  -9.]]]]\n",
      "[[[[ 12.]\n",
      "   [ 16.]\n",
      "   [  9.]]\n",
      "\n",
      "  [[ 24.]\n",
      "   [ 28.]\n",
      "   [ 15.]]\n",
      "\n",
      "  [[ 15.]\n",
      "   [ 17.]\n",
      "   [  9.]]]\n",
      "\n",
      "\n",
      " [[[120.]\n",
      "   [160.]\n",
      "   [ 90.]]\n",
      "\n",
      "  [[240.]\n",
      "   [280.]\n",
      "   [150.]]\n",
      "\n",
      "  [[150.]\n",
      "   [170.]\n",
      "   [ 90.]]]\n",
      "\n",
      "\n",
      " [[[-12.]\n",
      "   [-16.]\n",
      "   [ -9.]]\n",
      "\n",
      "  [[-24.]\n",
      "   [-28.]\n",
      "   [-15.]]\n",
      "\n",
      "  [[-15.]\n",
      "   [-17.]\n",
      "   [ -9.]]]]\n"
     ]
    },
    {
     "data": {
      "image/png": "[encoded data removed]",
      "text/plain": [
       "<Figure size 432x288 with 3 Axes>"
      ]
     },
     "metadata": {
      "needs_background": "light"
     },
     "output_type": "display_data"
    }
   ],
   "source": [
    "# conv2d : 3 filters, padding = 'SAME' (zero padding 함)\n",
    "# image : (1,3,3,1), Filter: (2,2,1,3), stride : (1,1)\n",
    "# 3장의 필터를 사용하여 출력도 3장 출력\n",
    "weight = tf.constant([[[[1.,10.,-1.]],[[1.,10.,-1]]],\n",
    "                      [[[1.,10.,-1.]],[[1.,10.,-1.]]]])\n",
    "conv2d = tf.nn.conv2d(image,weight,strides=[1,1,1,1],padding='SAME')\n",
    "conv2d_img = conv2d.eval()\n",
    "print(conv2d_img)  # (1,3,3,3)\n",
    "conv2d_img = np.swapaxes(conv2d_img,0,3)\n",
    "print(conv2d_img)  # (3,3,3,1)\n",
    "\n",
    "# 시각화\n",
    "for i, one_imge in enumerate(conv2d_img):\n",
    "    plt.subplot(1,3,i+1)\n",
    "    plt.imshow(one_imge.reshape(3,3),cmap='Greys')\n",
    "plt.show()"
   ]
  },
  {
   "cell_type": "code",
   "execution_count": 11,
   "metadata": {},
   "outputs": [
    {
     "name": "stdout",
     "output_type": "stream",
     "text": [
      "[[[[4.]\n",
      "   [3.]]\n",
      "\n",
      "  [[2.]\n",
      "   [1.]]]]\n"
     ]
    },
    {
     "data": {
      "image/png": "[encoded data removed]",
      "text/plain": [
       "<Figure size 432x288 with 1 Axes>"
      ]
     },
     "metadata": {
      "needs_background": "light"
     },
     "output_type": "display_data"
    }
   ],
   "source": [
    "# max pooling : (1,2,2,1) ---> (1,2,2,1)  , padding = 'SAME' (zero padding 함)\n",
    "image = np.array([[[[4],[3]],\n",
    "                  [[2],[1]]]],dtype=np.float32)\n",
    "print(image)\n",
    "plt.imshow(image.reshape(2,2),cmap='Greys')\n",
    "plt.show()"
   ]
  },
  {
   "cell_type": "code",
   "execution_count": 13,
   "metadata": {},
   "outputs": [
    {
     "name": "stdout",
     "output_type": "stream",
     "text": [
      "Tensor(\"MaxPool_1:0\", shape=(1, 1, 1, 1), dtype=float32)\n"
     ]
    },
    {
     "data": {
      "text/plain": [
       "array([[[[4.]]]], dtype=float32)"
      ]
     },
     "execution_count": 13,
     "metadata": {},
     "output_type": "execute_result"
    }
   ],
   "source": [
    "#  padding = 'VALID'\n",
    "# max pool \n",
    "# image : (1,2,2,1)\n",
    "# (2 - 2)/1 + 1 = 1\n",
    "pool = tf.nn.max_pool(image,ksize=[1,2,2,1],strides=[1,1,1,1],  # ksize : 원본에서 추출할 이미지의 범위\n",
    "                     padding = 'VALID')\n",
    "print(pool)\n",
    "pool.eval()     # (1, 1, 1, 1)"
   ]
  },
  {
   "cell_type": "code",
   "execution_count": 14,
   "metadata": {},
   "outputs": [
    {
     "name": "stdout",
     "output_type": "stream",
     "text": [
      "Tensor(\"MaxPool_2:0\", shape=(1, 2, 2, 1), dtype=float32)\n"
     ]
    },
    {
     "data": {
      "text/plain": [
       "array([[[[4.],\n",
       "         [3.]],\n",
       "\n",
       "        [[2.],\n",
       "         [1.]]]], dtype=float32)"
      ]
     },
     "execution_count": 14,
     "metadata": {},
     "output_type": "execute_result"
    }
   ],
   "source": [
    "#  padding = 'VALID'\n",
    "# max pool \n",
    "# image : (1,2,2,1)\n",
    "# (3 - 2)/1 + 1 = 2\n",
    "pool = tf.nn.max_pool(image,ksize=[1,2,2,1],strides=[1,1,1,1],  # ksize : 원본에서 추출할 이미지의 범위\n",
    "                     padding = 'SAME')\n",
    "print(pool)\n",
    "pool.eval()  # (1, 2, 2, 1)"
   ]
  },
  {
   "cell_type": "code",
   "execution_count": 35,
   "metadata": {},
   "outputs": [
    {
     "name": "stdout",
     "output_type": "stream",
     "text": [
      "Extracting Data/mnist/train-images-idx3-ubyte.gz\n",
      "Extracting Data/mnist/train-labels-idx1-ubyte.gz\n",
      "Extracting Data/mnist/t10k-images-idx3-ubyte.gz\n",
      "Extracting Data/mnist/t10k-labels-idx1-ubyte.gz\n",
      "[0. 0. 0. 0. 0. 0. 0. 1. 0. 0.]\n"
     ]
    },
    {
     "data": {
      "image/png": "[encoded data removed]",
      "text/plain": [
       "<Figure size 432x288 with 1 Axes>"
      ]
     },
     "metadata": {
      "needs_background": "light"
     },
     "output_type": "display_data"
    }
   ],
   "source": [
    "# MNIST image data 처리\n",
    "from tensorflow.examples.tutorials.mnist import input_data\n",
    "mnist = input_data.read_data_sets('Data/mnist/', one_hot=True)\n",
    "\n",
    "image = mnist.train.images[0].reshape(28,28)\n",
    "print(mnist.train.labels[0])  # [0. 0. 0. 0. 0. 0. 0. 1. 0. 0.] : 7\n",
    "\n",
    "plt.imshow(image,cmap='Greys')\n",
    "plt.show()"
   ]
  },
  {
   "cell_type": "code",
   "execution_count": 41,
   "metadata": {},
   "outputs": [
    {
     "name": "stdout",
     "output_type": "stream",
     "text": [
      "(1, 28, 28, 1)\n",
      "(1, 14, 14, 5)\n",
      "(5, 14, 14, 1)\n"
     ]
    },
    {
     "data": {
      "image/png": "[encoded data removed]",
      "text/plain": [
       "<Figure size 432x288 with 5 Axes>"
      ]
     },
     "metadata": {
      "needs_background": "light"
     },
     "output_type": "display_data"
    }
   ],
   "source": [
    "# MNIST Convolution layer\n",
    "# image : (1,28,28,1)\n",
    "# filter : (3,3,1,5)\n",
    "# (28+1 - 3)/2 + 1 = 14\n",
    "img = image.reshape(-1,28,28,1)\n",
    "print(img.shape)\n",
    "\n",
    "W = tf.Variable(tf.random_normal([3,3,1,5]),name='weight')\n",
    "conv2d = tf.nn.conv2d(img,W,strides=[1,2,2,1], padding='SAME')\n",
    "\n",
    "sess.run(tf.global_variables_initializer())\n",
    "conv2d_img = conv2d.eval()\n",
    "print(conv2d_img.shape) # (1, 14, 14, 5)\n",
    "conv2d_img = np.swapaxes(conv2d_img,0,3)\n",
    "print(conv2d_img.shape) # (5, 14, 14, 1)\n",
    "\n",
    "\n",
    "# 시각화\n",
    "for i, one_imge in enumerate(conv2d_img):\n",
    "    plt.subplot(1,5,i+1)\n",
    "    plt.imshow(one_imge.reshape(14,14),cmap='Greys')\n",
    "plt.show()"
   ]
  },
  {
   "cell_type": "code",
   "execution_count": 42,
   "metadata": {},
   "outputs": [
    {
     "name": "stdout",
     "output_type": "stream",
     "text": [
      "(1, 7, 7, 5)\n",
      "(5, 7, 7, 1)\n"
     ]
    },
    {
     "data": {
      "image/png": "[encoded data removed]",
      "text/plain": [
       "<Figure size 432x288 with 5 Axes>"
      ]
     },
     "metadata": {
      "needs_background": "light"
     },
     "output_type": "display_data"
    }
   ],
   "source": [
    "# MNIST Max Pooling\n",
    "# conv2d : (1, 14, 14, 5)\n",
    "# kernel size : (1,2,2,1) , strides : (1,2,2,1), padding = 'SAME'\n",
    "# 출력 이미지 : (14+1 - 2)/2 + 1 = 7, \n",
    "\n",
    "pool = tf.nn.max_pool(conv2d,ksize=[1,2,2,1], strides=[1,2,2,1],\n",
    "                      padding='SAME')\n",
    "pool_img = pool.eval()\n",
    "print(pool_img.shape)  # (1,7,7,5)\n",
    "\n",
    "pool_img = np.swapaxes(pool_img,0,3)\n",
    "print(pool_img.shape) # (5, 7, 7, 1)\n",
    "\n",
    "# 시각화\n",
    "for i, one_imge in enumerate(pool_img):\n",
    "    plt.subplot(1,5,i+1)\n",
    "    plt.imshow(one_imge.reshape(7,7),cmap='Greys')\n",
    "plt.show()"
   ]
  },
  {
   "cell_type": "code",
   "execution_count": null,
   "metadata": {},
   "outputs": [],
   "source": []
  }
 ],
 "metadata": {
  "kernelspec": {
   "display_name": "Python 3",
   "language": "python",
   "name": "python3"
  },
  "language_info": {
   "codemirror_mode": {
    "name": "ipython",
    "version": 3
   },
   "file_extension": ".py",
   "mimetype": "text/x-python",
   "name": "python",
   "nbconvert_exporter": "python",
   "pygments_lexer": "ipython3",
   "version": "3.7.6"
  }
 },
 "nbformat": 4,
 "nbformat_minor": 4
}
