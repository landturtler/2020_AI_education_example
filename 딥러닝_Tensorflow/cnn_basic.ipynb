{
 "cells": [
  {
   "cell_type": "code",
   "execution_count": 4,
   "metadata": {},
   "outputs": [
    {
     "name": "stdout",
     "output_type": "stream",
     "text": [
      "[[[[1.]\n",
      "   [2.]\n",
      "   [3.]]\n",
      "\n",
      "  [[4.]\n",
      "   [5.]\n",
      "   [6.]]\n",
      "\n",
      "  [[7.]\n",
      "   [8.]\n",
      "   [9.]]]]\n",
      "(1, 3, 3, 1)\n",
      "[[1. 2. 3.]\n",
      " [4. 5. 6.]\n",
      " [7. 8. 9.]]\n"
     ]
    },
    {
     "data": {
      "image/png": "[encoded data removed]",
      "text/plain": [
       "<Figure size 432x288 with 1 Axes>"
      ]
     },
     "metadata": {
      "needs_background": "light"
     },
     "output_type": "display_data"
    }
   ],
   "source": [
    "# cnn_basic.py\n",
    "\n",
    "import tensorflow as tf\n",
    "import numpy as np\n",
    "import matplotlib.pyplot as plt\n",
    "\n",
    "sess = tf.InteractiveSession()\n",
    "#\n",
    "# a = tf.constant(10)\n",
    "# b = tf.constant(20)\n",
    "# add_node = tf.add(a,b)\n",
    "#\n",
    "# print(add_node.eval())\n",
    "# print(sess.run(add_node))\n",
    "\n",
    "image = np.array([[[[1],[2],[3]],\n",
    "                   [[4],[5],[6]],\n",
    "                   [[7],[8],[9]]]], dtype=np.float32)\n",
    "print(image)\n",
    "print(image.shape)  # (1,3,3,1)\n",
    "plt.imshow(image.reshape(3,3),cmap='Greys')\n",
    "print(image.reshape(3,3))\n",
    "plt.show()"
   ]
  },
  {
   "cell_type": "code",
   "execution_count": 3,
   "metadata": {},
   "outputs": [
    {
     "name": "stdout",
     "output_type": "stream",
     "text": [
      "[[[[1.]\n",
      "   [2.]\n",
      "   [3.]]\n",
      "\n",
      "  [[4.]\n",
      "   [5.]\n",
      "   [6.]]\n",
      "\n",
      "  [[7.]\n",
      "   [8.]\n",
      "   [9.]]]]\n",
      "(1, 3, 3, 1)\n",
      "[[[[12.]\n",
      "   [16.]]\n",
      "\n",
      "  [[24.]\n",
      "   [28.]]]]\n"
     ]
    },
    {
     "data": {
      "image/png": "[encoded data removed]",
      "text/plain": [
       "<Figure size 432x288 with 1 Axes>"
      ]
     },
     "metadata": {
      "needs_background": "light"
     },
     "output_type": "display_data"
    }
   ],
   "source": [
    "# CNN(Convolutional Neural Network)\n",
    "# conv2d layer   , filter (2,2,1,1)\n",
    "#  출력 이미지 = (N - F)/stride  + 1\n",
    "\n",
    "# image (1,3,3,1)\n",
    "# 1 : 이미지의 갯수\n",
    "# 3 : 가로 픽셀수\n",
    "# 3 : 세로 픽셀 수\n",
    "# 1 : color, Greyscale = 1\n",
    "\n",
    "# filter (2,2,1,1)\n",
    "# 2 : 가로 갯수\n",
    "# 2 : 세로 갯수\n",
    "# 1 : color\n",
    "# 1 : filter의 갯수\n",
    "#\n",
    "# 출력 이미지 = (3 - 2)/1 + 1 = 2, zero padding을 안했을 때\n",
    "weight = tf.constant([[[[1.]],[[1.]]],\n",
    "                      [[[1.]],[[1.]]]])\n",
    "conv2d = tf.nn.conv2d(image,weight,strides=[1,1,1,1],padding='VALID')\n",
    "conv2d_img = conv2d.eval()\n",
    "print(conv2d_img)  # (1,2,2,1)\n",
    "plt.imshow(conv2d_img.reshape(2,2),cmap='Greys')\n",
    "plt.show()"
   ]
  },
  {
   "cell_type": "code",
   "execution_count": 5,
   "metadata": {},
   "outputs": [
    {
     "name": "stdout",
     "output_type": "stream",
     "text": [
      "[[[[12.]\n",
      "   [16.]\n",
      "   [ 9.]]\n",
      "\n",
      "  [[24.]\n",
      "   [28.]\n",
      "   [15.]]\n",
      "\n",
      "  [[15.]\n",
      "   [17.]\n",
      "   [ 9.]]]]\n"
     ]
    },
    {
     "data": {
      "image/png": "[encoded data removed]",
      "text/plain": [
       "<Figure size 432x288 with 1 Axes>"
      ]
     },
     "metadata": {
      "needs_background": "light"
     },
     "output_type": "display_data"
    }
   ],
   "source": [
    "# 출력 이미지 = (3+1 - 2)/1 + 1 = 3, zero padding을 했을 때(padding='SAME')\n",
    "weight = tf.constant([[[[1.]],[[1.]]],\n",
    "                      [[[1.]],[[1.]]]])\n",
    "conv2d = tf.nn.conv2d(image,weight,strides=[1,1,1,1],padding='SAME')\n",
    "conv2d_img = conv2d.eval()\n",
    "print(conv2d_img)  # (1,3,3,1)\n",
    "plt.imshow(conv2d_img.reshape(3,3),cmap='Greys')\n",
    "plt.show()"
   ]
  },
  {
   "cell_type": "code",
   "execution_count": 11,
   "metadata": {},
   "outputs": [
    {
     "name": "stdout",
     "output_type": "stream",
     "text": [
      "[[[[ 12.]\n",
      "   [ 16.]\n",
      "   [  9.]]\n",
      "\n",
      "  [[ 24.]\n",
      "   [ 28.]\n",
      "   [ 15.]]\n",
      "\n",
      "  [[ 15.]\n",
      "   [ 17.]\n",
      "   [  9.]]]\n",
      "\n",
      "\n",
      " [[[120.]\n",
      "   [160.]\n",
      "   [ 90.]]\n",
      "\n",
      "  [[240.]\n",
      "   [280.]\n",
      "   [150.]]\n",
      "\n",
      "  [[150.]\n",
      "   [170.]\n",
      "   [ 90.]]]\n",
      "\n",
      "\n",
      " [[[-12.]\n",
      "   [-16.]\n",
      "   [ -9.]]\n",
      "\n",
      "  [[-24.]\n",
      "   [-28.]\n",
      "   [-15.]]\n",
      "\n",
      "  [[-15.]\n",
      "   [-17.]\n",
      "   [ -9.]]]]\n"
     ]
    },
    {
     "data": {
      "image/png": "[encoded data removed]",
      "text/plain": [
       "<Figure size 432x288 with 3 Axes>"
      ]
     },
     "metadata": {
      "needs_background": "light"
     },
     "output_type": "display_data"
    }
   ],
   "source": [
    "# conv2d : 3 filters, padding = 'SAME' (zero padding 함)\n",
    "# image : (1,3,3,1), Filter: (2,2,1,3), stride : (1,1)\n",
    "# 3장의 필터를 사용하여 출력도 3장 출력\n",
    "weight = tf.constant([[[[1.,10.,-1.]],[[1.,10.,-1]]],\n",
    "                      [[[1.,10.,-1.]],[[1.,10.,-1.]]]])\n",
    "conv2d = tf.nn.conv2d(image,weight,strides=[1,1,1,1],padding='SAME')\n",
    "conv2d_img = conv2d.eval()\n",
    "# print(conv2d_img)  # (1,3,3,3)\n",
    "conv2d_img = np.swapaxes(conv2d_img,0,3)\n",
    "print(conv2d_img)  # (3,3,3,1)\n",
    "\n",
    "# 시각화\n",
    "for i, one_imge in enumerate(conv2d_img):\n",
    "    plt.subplot(1,3,i+1)\n",
    "    plt.imshow(one_imge.reshape(3,3),cmap='Greys')\n",
    "plt.show()"
   ]
  },
  {
   "cell_type": "code",
   "execution_count": null,
   "metadata": {},
   "outputs": [],
   "source": [
    "# max pooling : ()"
   ]
  },
  {
   "cell_type": "code",
   "execution_count": null,
   "metadata": {},
   "outputs": [],
   "source": []
  },
  {
   "cell_type": "code",
   "execution_count": null,
   "metadata": {},
   "outputs": [],
   "source": []
  },
  {
   "cell_type": "code",
   "execution_count": null,
   "metadata": {},
   "outputs": [],
   "source": []
  },
  {
   "cell_type": "code",
   "execution_count": null,
   "metadata": {},
   "outputs": [],
   "source": []
  }
 ],
 "metadata": {
  "kernelspec": {
   "display_name": "Python 3",
   "language": "python",
   "name": "python3"
  },
  "language_info": {
   "codemirror_mode": {
    "name": "ipython",
    "version": 3
   },
   "file_extension": ".py",
   "mimetype": "text/x-python",
   "name": "python",
   "nbconvert_exporter": "python",
   "pygments_lexer": "ipython3",
   "version": "3.7.6"
  }
 },
 "nbformat": 4,
 "nbformat_minor": 4
}
