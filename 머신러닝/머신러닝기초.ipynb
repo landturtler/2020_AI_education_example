{
 "cells": [
  {
   "cell_type": "markdown",
   "metadata": {},
   "source": [
    "## 머신 러닝 개념"
   ]
  },
  {
   "cell_type": "markdown",
   "metadata": {},
   "source": [
    "###  인공지능(AI) 분류\n",
    "#### [1] 규칙기반 AI : rule-based system , 수동으로 규칙(특징)을 입력하면 기계가 추론, Prolog, LISP\n",
    "#### [2] 학습기반 AI : 머신 러닝(Machine Learning), 데이터를 입력하면 기계가 스스로 새로운 특징을 학습하고 예측"
   ]
  },
  {
   "cell_type": "markdown",
   "metadata": {},
   "source": [
    "### 머신러닝 분류\n",
    "#### [1] 지도학습(Supervised Learning) : 답이 주어진 상태에서 학습\n",
    "#### - 회귀(Regression)\n",
    "#### - 분류(Classification)\n",
    "#### [2] 비지도학습(Unsupervised Learning) : 답을 모르고 학습\n",
    "#### - 군집화(Clustering)\n",
    "#### - 차원 축소(Dimension Reduction) : PCA(주성분 분석, Pricipal Component Analysis)\n",
    "#### [3] 강화 학습(Reinforcement Learning) : 답을 모르고 있는 상태에서 답을 알아가는 강한 인공지능(자아를 갖음, 인간수준)\n",
    "#### : 게임, 알파고(DQN)"
   ]
  },
  {
   "cell_type": "markdown",
   "metadata": {},
   "source": [
    "##    회귀(Reression) 모델"
   ]
  },
  {
   "cell_type": "markdown",
   "metadata": {},
   "source": [
    "#### [1] 선형회귀(Linear Regression) : 1차 함수, 직선의 방정식\n",
    "#### [2] 가중치(Weight) : 입력변수가 출력에 영향을 미치는 정도를 설정, 기울기 값\n",
    "#### [3] 편향(Bias) : 기본 출력 값이 활성화되는 정도를 설정, y 절편\n",
    "#### [4] 비용함수(Cost function) : 2차 함수, 포물선의 방정식\n",
    "### - cost(비용) = 오차 = 에러 = 손실(loss)\n",
    "#### - cost(W,b) = (H(x) - y)^2\n",
    "#### [5] 예측(가설,Hypothesis) 함수: predict  ,  H(X) :예측 값, y:답, label, target, x : 입력,피쳐\n",
    "#### - H(x) = WX + b\n",
    "#### [6] 경사하강법(Gradient Descent algorithm)\n",
    "#### : 비용이 가장 작은 기울기 값을 구하는 알고리즘"
   ]
  },
  {
   "cell_type": "code",
   "execution_count": 115,
   "metadata": {
    "scrolled": true
   },
   "outputs": [
    {
     "name": "stdout",
     "output_type": "stream",
     "text": [
      "w :-1 , cost: 18.666666666666668\n",
      "w :0 , cost: 4.666666666666667\n",
      "w :1 , cost: 0.0\n",
      "w :2 , cost: 4.666666666666667\n",
      "w :3 , cost: 18.666666666666668\n"
     ]
    },
    {
     "data": {
      "image/png": "[encoded data removed]",
      "text/plain": [
       "<Figure size 432x288 with 1 Axes>"
      ]
     },
     "metadata": {
      "needs_background": "light"
     },
     "output_type": "display_data"
    }
   ],
   "source": [
    "# 비용함수의 구현\n",
    "import numpy as np\n",
    "import pandas as pd\n",
    "import matplotlib.pyplot as plt\n",
    "\n",
    "def cost(x,y,w):\n",
    "    c = 0\n",
    "    for i in range(len(x)):\n",
    "        hx = w * x[i]      # 예측 방정식\n",
    "        loss = (hx - y[i])**2\n",
    "        c += loss\n",
    "    return c/len(x)    # 평균 제곱 오차\n",
    "\n",
    "x = [1,2,3]      #  입력 값\n",
    "y = [1,2,3]      # 답\n",
    "print('w :-1 , cost:',cost(x,y,-1))\n",
    "print('w :0 , cost:',cost(x,y,0))\n",
    "print('w :1 , cost:',cost(x,y,1))\n",
    "print('w :2 , cost:',cost(x,y,2))\n",
    "print('w :3 , cost:',cost(x,y,3))\n",
    "\n",
    "# 비용함수 : x축은 weight, y축은 cost로 하는 2차 함수, 포물선의 방정식\n",
    "for i in range(-30,50):\n",
    "    w = i/10\n",
    "    c = cost(x,y,w)\n",
    "    plt.plot(w,c,'ro')\n",
    "\n",
    "plt.title('** Cost Graph **')    \n",
    "plt.xlabel('weight')\n",
    "plt.ylabel('cost')  \n",
    "plt.grid(True)\n",
    "plt.show()    "
   ]
  },
  {
   "cell_type": "markdown",
   "metadata": {},
   "source": [
    "### 미분 : 순간 변화량, 기울기, x 축으로 1 만큼 움직였을 때 y 축으로 움직인 거리\n",
    "#### 함수 미분 공식 정리  :     f(x) = x^n   ===>  f'(x) = n*x^(n-1)\n",
    "* y = 3           ===>  y' = 0\n",
    "* y = 2x          ===>  y' = 2\n",
    "* y = x^2         ===>  y' = 2x\n",
    "* y = (x + 1)^2   ===>  y' = 2(x+1) \n",
    "###### (y = x^2 + 2x + 1 ==> y' = 2x + 2 =2(x + 1))\n",
    "\n"
   ]
  },
  {
   "cell_type": "code",
   "execution_count": 116,
   "metadata": {},
   "outputs": [
    {
     "name": "stdout",
     "output_type": "stream",
     "text": [
      "---------start training!!\n",
      "---------end training\n",
      "weight: 1.0 train: 63 회\n"
     ]
    }
   ],
   "source": [
    "# 경사 하강법 알고리즘 함수 구현, 미분 적용\n",
    "def gradient_descent(x,y,w):\n",
    "    c = 0\n",
    "    for i in range(len(x)):\n",
    "        hx = w*x[i]\n",
    "        loss = (hx  - y[i])*x[i]  # 곱하기 2를 생략   \n",
    "        # 비용함수의 미분 :  cost(w) = (w*x[i] - y[i])**2 의 미분\n",
    "        # cost(w) = w^2 * x[i]^2  - 2 * w*x[i]*y[i] + y[i]^2\n",
    "        # cost'(w) = 2*w*x[i]^2 - 2*x[i]*y[i]= 2*x[i](w*x[i] - y[i]) \n",
    "        c += loss\n",
    "    return c/len(x)\n",
    "\n",
    "# 학습(train,fit) 시작    \n",
    "print('---------start training!!')    \n",
    "w,old =10,100\n",
    "for i in range(1000):\n",
    "    c = cost(x,y,w)\n",
    "    grad = gradient_descent(x,y,w)\n",
    "    w -= 0.1*grad    # 0.1 학습률(learning rate), 하이퍼 파라메타\n",
    "#     print('[%03d]'%i,'cost:',c,'old:',old,'weight:',w)\n",
    "    if c >= old and abs(c - old) < 1.0e-15: # cost 가 1.0e-15 값 보다도 더 줄지 않을 때\n",
    "#     if c == old:  # cost가 더이상 줄지 않을 때        \n",
    "        break\n",
    "    old = c    \n",
    "print('---------end training')        \n",
    "print('weight:',w,'train:',i,'회')   "
   ]
  },
  {
   "cell_type": "code",
   "execution_count": 117,
   "metadata": {},
   "outputs": [],
   "source": [
    "# Linear Regression 모델 구현\n",
    "\n",
    "# 알고리즘 구현 : 비용함수와 경사 하강법 알고리즘 함수 구현\n",
    "# (1) 비용 함수 구현\n",
    "def cost(x,y,w):\n",
    "    c = 0\n",
    "    for i in range(len(x)):\n",
    "        hx = w * x[i]      # 예측 방정식\n",
    "        loss = (hx - y[i])**2\n",
    "        c += loss\n",
    "    return c/len(x)    # 평균 제곱 오차\n",
    "\n",
    "# (2) 경사 하강법 알고리즘 함수 구현\n",
    "def gradient_descent(x,y,w):\n",
    "    c = 0\n",
    "    for i in range(len(x)):\n",
    "        hx = w*x[i]\n",
    "        loss = (hx  - y[i])*x[i]  # 곱하기 2를 생략   \n",
    "        # 비용함수의 미분 :  cost(w) = (w*x[i] - y[i])**2 의 미분\n",
    "        # cost(w) = w^2 * x[i]^2  - 2 * w*x[i]*y[i] + y[i]^2\n",
    "        # cost'(w) = 2*w*x[i]^2 - 2*x[i]*y[i]= 2*x[i](w*x[i] - y[i]) \n",
    "        c += loss\n",
    "    return c/len(x)\n",
    "\n",
    "\n",
    "# (3) 학습(fit) 함수 구현\n",
    "def fit(x,y):  # x,y값으로 기울기를 구해낸다\n",
    "    print('---------start training!!')    \n",
    "    w, old = 10, 100 \n",
    "    for i in range(1000):\n",
    "        c = cost(x,y,w)\n",
    "        grad = gradient_descent(x,y,w)\n",
    "        w -= 0.1*grad    # 0.1 학습률(learning rate), 하이퍼 파라메타\n",
    "        print('[%03d]'%i,'cost:',c,'old:',old,'weight:',w)\n",
    "        if c >= old and abs(c - old) < 1.0e-15: # cost 가 1.0e-15 값 보다도 더 줄지 않을 때\n",
    "            break\n",
    "        old = c    \n",
    "    print('---------end training')        \n",
    "    return w\n",
    "\n",
    "# (4) 예측(predict) 함수 구현\n",
    "def predict(w,x):\n",
    "    hx = w*np.array(x)\n",
    "    return list(hx)\n",
    "\n"
   ]
  },
  {
   "cell_type": "code",
   "execution_count": 124,
   "metadata": {},
   "outputs": [],
   "source": [
    "# 머신 러닝 사용자가 구현 할 부분\n",
    "\n",
    "# (1) fit() 함수를 호출하여 학습 \n",
    "\n",
    "# train 데이터 셋  : x,y 모두 사용\n",
    "x_train = [1,2,3]\n",
    "y_train = [1,2,3]\n",
    "# y_train = [2,4,6]\n",
    "# y_train = [2,4,5]\n",
    "\n",
    "w = fit(x_train,y_train)\n",
    "print('weight:',w)\n",
    "\n",
    "# (2) predcit() 함수를 호출하여 학습\n",
    "x_predict = [4,5,6]   # x 값 만 사용\n",
    "y_predict = predict(w,x_predict)\n",
    "print('x:',x_predict,'H(x):',y_predict)"
   ]
  },
  {
   "cell_type": "code",
   "execution_count": 136,
   "metadata": {},
   "outputs": [
    {
     "name": "stdout",
     "output_type": "stream",
     "text": [
      "[1.0, 2.0, 3.0]\n",
      "Accuracy: 0.67\n",
      "[1.0, 2.0, 3.0]\n",
      "RMSE: 4.041451884327381\n"
     ]
    }
   ],
   "source": [
    "# (3) 정확도 검증(validation)\n",
    "\n",
    "# 정확도 측정 함수 구현 \n",
    "# 분류(classification) 일때\n",
    "def get_accuracy(w,x_test,y_test):\n",
    "    y_predict = predict(w,x_test)\n",
    "    print(y_predict)\n",
    "    correct = 0\n",
    "    for k,_ in enumerate(y_test):\n",
    "        if y_test[k] == y_predict[k]:\n",
    "            correct += 1\n",
    "    accuracy = round(correct/len(y_test),2)\n",
    "    return accuracy\n",
    "\n",
    "\n",
    "# Linear Regression의 정확도는 RMSE 로 평가\n",
    "# RMSE(Root Mean Squared Error) : 평균 제곱근 오차\n",
    "def get_rmse(w,x_test,y_test):\n",
    "    y_predict = predict(w,x_test) \n",
    "    print(y_predict)\n",
    "    squred_error = 0\n",
    "    for k,_ in enumerate(y_test):\n",
    "        squred_error += (y_predict[k] - y_test[k])**2\n",
    "    mse = squred_error/len(y_test)\n",
    "    rmse = np.sqrt(mse)\n",
    "    return rmse\n",
    "\n",
    "# 머신 러닝 사용자가 구현 할 부분\n",
    "\n",
    "# classification 의 정확도(Accuracy)\n",
    "x_test = [1,2,3]\n",
    "y_test = [1,2,4]\n",
    "accuracy = get_accuracy(w,x_test,y_test)        \n",
    "print('Accuracy:',accuracy)\n",
    "\n",
    "# Linear Regression 의 RMSE\n",
    "x_test = [1,2,3]\n",
    "# y_test = [1,2,3]    # RMSE: 0.0\n",
    "y_test = [1,2,10]   # RMSE: 0.0\n",
    "\n",
    "rmse = get_rmse(w,x_test,y_test)        \n",
    "print('RMSE:',rmse)    "
   ]
  },
  {
   "cell_type": "markdown",
   "metadata": {},
   "source": [
    "### Boston 주택 가격 예측(Linear Regression, scikit-learn 사용)"
   ]
  },
  {
   "cell_type": "code",
   "execution_count": 139,
   "metadata": {},
   "outputs": [
    {
     "data": {
      "image/png": "[encoded data removed]",
      "text/plain": [
       "<Figure size 432x288 with 1 Axes>"
      ]
     },
     "metadata": {
      "needs_background": "light"
     },
     "output_type": "display_data"
    }
   ],
   "source": [
    "df = pd.read_csv('boston_train.csv')\n",
    "plt.scatter(df['RM'],df['MEDV'], color = 'r', s=10)\n",
    "plt.xlabel('RM')\n",
    "plt.ylabel('MEDV')  \n",
    "plt.show()\n",
    "# df"
   ]
  },
  {
   "cell_type": "code",
   "execution_count": 153,
   "metadata": {},
   "outputs": [
    {
     "data": {
      "image/png": "[encoded data removed]",
      "text/plain": [
       "<Figure size 432x288 with 1 Axes>"
      ]
     },
     "metadata": {
      "needs_background": "light"
     },
     "output_type": "display_data"
    }
   ],
   "source": [
    "# 1차원( 단항, 피쳐 1개) 회귀 모형의 예측\n",
    "from sklearn.linear_model import LinearRegression\n",
    "\n",
    "# 인스턴스 생성\n",
    "lr = LinearRegression()\n",
    "\n",
    "# 입출력 데이터를 설정\n",
    "x = df['RM'].values.reshape(-1,1)    # (400,1)\n",
    "y = df['MEDV'].values.reshape(-1,1)  # (400,1)\n",
    "\n",
    "# 회귀모형의 학습 , x,y를 입력\n",
    "lr.fit(x,y)\n",
    "\n",
    "# 예측 : x 만 입력\n",
    "y_predict = lr.predict(x)\n",
    "\n",
    "# 시각화\n",
    "plt.scatter(x,y, color = 'r', s=10)\n",
    "plt.xlabel('RM')\n",
    "plt.ylabel('MEDV') \n",
    "\n",
    "plt.plot(x,y_predict)\n",
    "plt.show()\n",
    "# list(zip(y,y_predict))"
   ]
  },
  {
   "cell_type": "code",
   "execution_count": 161,
   "metadata": {},
   "outputs": [
    {
     "name": "stdout",
     "output_type": "stream",
     "text": [
      "RMSE: 6.964958263761021\n",
      "r2_score: 0.46928062004385107\n"
     ]
    }
   ],
   "source": [
    "# 정확도 측정, RMSE\n",
    "\n",
    "from sklearn.metrics import mean_squared_error\n",
    "\n",
    "mse = mean_squared_error(y,y_predict)\n",
    "rmse = np.sqrt(mse)  # root(제곱근)\n",
    "print('RMSE:',rmse)  # \n",
    "\n",
    "from sklearn.metrics import r2_score\n",
    "\n",
    "r2 = r2_score(y,y_predict) # R-squred(결정계수), 예측 값의 분산/실제값의 분산\n",
    "print('r2_score:',r2)\n"
   ]
  },
  {
   "cell_type": "code",
   "execution_count": 158,
   "metadata": {},
   "outputs": [
    {
     "data": {
      "text/html": [
       "<div>\n",
       "<style scoped>\n",
       "    .dataframe tbody tr th:only-of-type {\n",
       "        vertical-align: middle;\n",
       "    }\n",
       "\n",
       "    .dataframe tbody tr th {\n",
       "        vertical-align: top;\n",
       "    }\n",
       "\n",
       "    .dataframe thead th {\n",
       "        text-align: right;\n",
       "    }\n",
       "</style>\n",
       "<table border=\"1\" class=\"dataframe\">\n",
       "  <thead>\n",
       "    <tr style=\"text-align: right;\">\n",
       "      <th></th>\n",
       "      <th>CRIM</th>\n",
       "      <th>ZN</th>\n",
       "      <th>INDUS</th>\n",
       "      <th>NOX</th>\n",
       "      <th>RM</th>\n",
       "      <th>AGE</th>\n",
       "      <th>DIS</th>\n",
       "      <th>TAX</th>\n",
       "      <th>PTRATIO</th>\n",
       "      <th>MEDV</th>\n",
       "    </tr>\n",
       "  </thead>\n",
       "  <tbody>\n",
       "    <tr>\n",
       "      <th>0</th>\n",
       "      <td>2.30040</td>\n",
       "      <td>0.0</td>\n",
       "      <td>19.58</td>\n",
       "      <td>0.605</td>\n",
       "      <td>6.319</td>\n",
       "      <td>96.1</td>\n",
       "      <td>2.1000</td>\n",
       "      <td>403</td>\n",
       "      <td>14.7</td>\n",
       "      <td>23.8</td>\n",
       "    </tr>\n",
       "    <tr>\n",
       "      <th>1</th>\n",
       "      <td>13.35980</td>\n",
       "      <td>0.0</td>\n",
       "      <td>18.10</td>\n",
       "      <td>0.693</td>\n",
       "      <td>5.887</td>\n",
       "      <td>94.7</td>\n",
       "      <td>1.7821</td>\n",
       "      <td>666</td>\n",
       "      <td>20.2</td>\n",
       "      <td>12.7</td>\n",
       "    </tr>\n",
       "    <tr>\n",
       "      <th>2</th>\n",
       "      <td>0.12744</td>\n",
       "      <td>0.0</td>\n",
       "      <td>6.91</td>\n",
       "      <td>0.448</td>\n",
       "      <td>6.770</td>\n",
       "      <td>2.9</td>\n",
       "      <td>5.7209</td>\n",
       "      <td>233</td>\n",
       "      <td>17.9</td>\n",
       "      <td>26.6</td>\n",
       "    </tr>\n",
       "    <tr>\n",
       "      <th>3</th>\n",
       "      <td>0.15876</td>\n",
       "      <td>0.0</td>\n",
       "      <td>10.81</td>\n",
       "      <td>0.413</td>\n",
       "      <td>5.961</td>\n",
       "      <td>17.5</td>\n",
       "      <td>5.2873</td>\n",
       "      <td>305</td>\n",
       "      <td>19.2</td>\n",
       "      <td>21.7</td>\n",
       "    </tr>\n",
       "    <tr>\n",
       "      <th>4</th>\n",
       "      <td>0.03768</td>\n",
       "      <td>80.0</td>\n",
       "      <td>1.52</td>\n",
       "      <td>0.404</td>\n",
       "      <td>7.274</td>\n",
       "      <td>38.3</td>\n",
       "      <td>7.3090</td>\n",
       "      <td>329</td>\n",
       "      <td>12.6</td>\n",
       "      <td>34.6</td>\n",
       "    </tr>\n",
       "    <tr>\n",
       "      <th>...</th>\n",
       "      <td>...</td>\n",
       "      <td>...</td>\n",
       "      <td>...</td>\n",
       "      <td>...</td>\n",
       "      <td>...</td>\n",
       "      <td>...</td>\n",
       "      <td>...</td>\n",
       "      <td>...</td>\n",
       "      <td>...</td>\n",
       "      <td>...</td>\n",
       "    </tr>\n",
       "    <tr>\n",
       "      <th>395</th>\n",
       "      <td>0.23912</td>\n",
       "      <td>0.0</td>\n",
       "      <td>9.69</td>\n",
       "      <td>0.585</td>\n",
       "      <td>6.019</td>\n",
       "      <td>65.3</td>\n",
       "      <td>2.4091</td>\n",
       "      <td>391</td>\n",
       "      <td>19.2</td>\n",
       "      <td>21.2</td>\n",
       "    </tr>\n",
       "    <tr>\n",
       "      <th>396</th>\n",
       "      <td>0.04560</td>\n",
       "      <td>0.0</td>\n",
       "      <td>13.89</td>\n",
       "      <td>0.550</td>\n",
       "      <td>5.888</td>\n",
       "      <td>56.0</td>\n",
       "      <td>3.1121</td>\n",
       "      <td>276</td>\n",
       "      <td>16.4</td>\n",
       "      <td>23.3</td>\n",
       "    </tr>\n",
       "    <tr>\n",
       "      <th>397</th>\n",
       "      <td>1.38799</td>\n",
       "      <td>0.0</td>\n",
       "      <td>8.14</td>\n",
       "      <td>0.538</td>\n",
       "      <td>5.950</td>\n",
       "      <td>82.0</td>\n",
       "      <td>3.9900</td>\n",
       "      <td>307</td>\n",
       "      <td>21.0</td>\n",
       "      <td>13.2</td>\n",
       "    </tr>\n",
       "    <tr>\n",
       "      <th>398</th>\n",
       "      <td>7.36711</td>\n",
       "      <td>0.0</td>\n",
       "      <td>18.10</td>\n",
       "      <td>0.679</td>\n",
       "      <td>6.193</td>\n",
       "      <td>78.1</td>\n",
       "      <td>1.9356</td>\n",
       "      <td>666</td>\n",
       "      <td>20.2</td>\n",
       "      <td>11.0</td>\n",
       "    </tr>\n",
       "    <tr>\n",
       "      <th>399</th>\n",
       "      <td>0.14150</td>\n",
       "      <td>0.0</td>\n",
       "      <td>6.91</td>\n",
       "      <td>0.448</td>\n",
       "      <td>6.169</td>\n",
       "      <td>6.6</td>\n",
       "      <td>5.7209</td>\n",
       "      <td>233</td>\n",
       "      <td>17.9</td>\n",
       "      <td>25.3</td>\n",
       "    </tr>\n",
       "  </tbody>\n",
       "</table>\n",
       "<p>400 rows × 10 columns</p>\n",
       "</div>"
      ],
      "text/plain": [
       "         CRIM    ZN  INDUS    NOX     RM   AGE     DIS  TAX  PTRATIO  MEDV\n",
       "0     2.30040   0.0  19.58  0.605  6.319  96.1  2.1000  403     14.7  23.8\n",
       "1    13.35980   0.0  18.10  0.693  5.887  94.7  1.7821  666     20.2  12.7\n",
       "2     0.12744   0.0   6.91  0.448  6.770   2.9  5.7209  233     17.9  26.6\n",
       "3     0.15876   0.0  10.81  0.413  5.961  17.5  5.2873  305     19.2  21.7\n",
       "4     0.03768  80.0   1.52  0.404  7.274  38.3  7.3090  329     12.6  34.6\n",
       "..        ...   ...    ...    ...    ...   ...     ...  ...      ...   ...\n",
       "395   0.23912   0.0   9.69  0.585  6.019  65.3  2.4091  391     19.2  21.2\n",
       "396   0.04560   0.0  13.89  0.550  5.888  56.0  3.1121  276     16.4  23.3\n",
       "397   1.38799   0.0   8.14  0.538  5.950  82.0  3.9900  307     21.0  13.2\n",
       "398   7.36711   0.0  18.10  0.679  6.193  78.1  1.9356  666     20.2  11.0\n",
       "399   0.14150   0.0   6.91  0.448  6.169   6.6  5.7209  233     17.9  25.3\n",
       "\n",
       "[400 rows x 10 columns]"
      ]
     },
     "execution_count": 158,
     "metadata": {},
     "output_type": "execute_result"
    }
   ],
   "source": [
    "df"
   ]
  },
  {
   "cell_type": "code",
   "execution_count": null,
   "metadata": {},
   "outputs": [],
   "source": []
  }
 ],
 "metadata": {
  "kernelspec": {
   "display_name": "Python 3",
   "language": "python",
   "name": "python3"
  },
  "language_info": {
   "codemirror_mode": {
    "name": "ipython",
    "version": 3
   },
   "file_extension": ".py",
   "mimetype": "text/x-python",
   "name": "python",
   "nbconvert_exporter": "python",
   "pygments_lexer": "ipython3",
   "version": "3.7.6"
  }
 },
 "nbformat": 4,
 "nbformat_minor": 4
}
