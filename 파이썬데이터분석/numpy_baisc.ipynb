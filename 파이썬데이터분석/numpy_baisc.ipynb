{
 "cells": [
  {
   "cell_type": "markdown",
   "metadata": {},
   "source": [
    "### 넘파이(NumPy) : 배열(ndarray , n dimension array)\n",
    "\n",
    "* 리스트(List) : Linked List 구조(불연속), 동작 속도가 느리다, comma로 요소 구별, 서로 다른 자료형을 사용할 수 있다\n",
    "* 배열(ndarray) : 연속된 메모리 구조, 동작 속도가 빠르다, comma를 사용하지 않고 공백으로 요소 구별, 오직 한 가지의 타입만 갖을수 있다 "
   ]
  },
  {
   "cell_type": "code",
   "execution_count": 8,
   "metadata": {},
   "outputs": [
    {
     "name": "stdout",
     "output_type": "stream",
     "text": [
      "[0, 1, 2, 3, 4, 5, 'k', (1, 2)]\n",
      "<class 'list'>\n",
      "[0 1 2 3 4 5]\n",
      "<class 'numpy.ndarray'>\n",
      "int32\n"
     ]
    }
   ],
   "source": [
    "import numpy as np \n",
    "# pip install numpy \n",
    "\n",
    "# List\n",
    "list1 = [0,1,2,3,4,5]\n",
    "print(list1)\n",
    "print(type(list1))\n",
    "\n",
    "# 리스트를 사용해서 ndarray 생성\n",
    "a = np.array([0,1,2,3,4,5])  # 요소의 자료형을 동일하게 사용\n",
    "print(a)\n",
    "print(type(a))    # ndarray\n",
    "print(a.dtype)    # 요소의 자료형"
   ]
  },
  {
   "cell_type": "code",
   "execution_count": 11,
   "metadata": {},
   "outputs": [],
   "source": [
    "# Shift + Tab : 함수 나 모듈 및 변수 객체 위에 커서를 놓고 프로토 타입을 볼수 있다"
   ]
  },
  {
   "cell_type": "code",
   "execution_count": 20,
   "metadata": {},
   "outputs": [
    {
     "name": "stdout",
     "output_type": "stream",
     "text": [
      "[0. 1. 2. 3. 4.]\n",
      "<class 'numpy.ndarray'>\n",
      "float64\n"
     ]
    }
   ],
   "source": [
    "# int 와 float  ---> float\n",
    "a = np.array([0,1,2.,3,4])\n",
    "print(a)\n",
    "print(type(a))\n",
    "print(a.dtype)"
   ]
  },
  {
   "cell_type": "code",
   "execution_count": 21,
   "metadata": {},
   "outputs": [
    {
     "name": "stdout",
     "output_type": "stream",
     "text": [
      "['0' '1' '2.0' '3' 'Hello']\n",
      "<class 'numpy.ndarray'>\n",
      "<U32\n"
     ]
    }
   ],
   "source": [
    "# int / float  + str  ---> Unicode string\n",
    "a = np.array([0,1,2.,3,'Hello'])\n",
    "print(a)\n",
    "print(type(a))\n",
    "print(a.dtype)   # <U32 :  리틀엔디언, 유니코드, 최대 문자 32 byte\n",
    "\n",
    "# 유니코드 인코딩 방식\n",
    "# (1) EUC-KR , CP949(MS949) : 완성형, 한글 2바이트, 영문은 1바이트 , Windows\n",
    "# (2) UFT-8 : 조합형, 한글 3 바이트, 영문은 1 바이트, Linux"
   ]
  },
  {
   "cell_type": "code",
   "execution_count": 22,
   "metadata": {},
   "outputs": [
    {
     "data": {
      "text/plain": [
       "dict_keys(['?', 0, 'byte', 'b', 1, 'ubyte', 'B', 2, 'short', 'h', 3, 'ushort', 'H', 4, 'i', 5, 'uint', 'I', 6, 'intp', 'p', 9, 'uintp', 'P', 10, 'long', 'l', 7, 'L', 8, 'longlong', 'q', 'ulonglong', 'Q', 'half', 'e', 23, 'f', 11, 'double', 'd', 12, 'longdouble', 'g', 13, 'cfloat', 'F', 14, 'cdouble', 'D', 15, 'clongdouble', 'G', 16, 'O', 17, 'S', 18, 'unicode', 'U', 19, 'void', 'V', 20, 'M', 21, 'm', 22, 'bool8', 'Bool', 'b1', 'int64', 'Int64', 'i8', 'uint64', 'Uint64', 'u8', 'float16', 'Float16', 'f2', 'float32', 'Float32', 'f4', 'float64', 'Float64', 'f8', 'complex64', 'Complex32', 'c8', 'complex128', 'Complex64', 'c16', 'object0', 'Object0', 'bytes0', 'Bytes0', 'str0', 'Str0', 'void0', 'Void0', 'datetime64', 'Datetime64', 'M8', 'timedelta64', 'Timedelta64', 'm8', 'int32', 'Int32', 'i4', 'uint32', 'UInt32', 'u4', 'UInt64', 'int16', 'Int16', 'i2', 'uint16', 'UInt16', 'u2', 'int8', 'Int8', 'i1', 'uint8', 'UInt8', 'u1', 'complex_', 'int0', 'uint0', 'single', 'csingle', 'singlecomplex', 'float_', 'intc', 'uintc', 'int_', 'longfloat', 'clongfloat', 'longcomplex', 'bool_', 'bytes_', 'string_', 'unicode_', 'object_', 'str_', 'int', 'float', 'complex', 'bool', 'object', 'str', 'bytes', 'a'])"
      ]
     },
     "execution_count": 22,
     "metadata": {},
     "output_type": "execute_result"
    }
   ],
   "source": [
    "# numpy 의 dtype 객체의 종류 : 대소문자 모두 사용가능\n",
    "np.sctypeDict.keys()"
   ]
  },
  {
   "cell_type": "code",
   "execution_count": 30,
   "metadata": {},
   "outputs": [
    {
     "name": "stdout",
     "output_type": "stream",
     "text": [
      "['1.234' '3.123' '4.4356' '5' '7'] <U6\n",
      "[1.234  3.123  4.4356 5.     7.    ] float32\n",
      "[1 3 4 5 7] int32\n"
     ]
    }
   ],
   "source": [
    "# 배열의 데이터 타입 변환 : astype()\n",
    "a1 = np.array(['1.234','3.123','4.4356','5','7'])\n",
    "print(a1,a1.dtype)    # <U6 : 리틀엔디언, 유니코드, 최대 문자 6 byte\n",
    "\n",
    "a2 = a1.astype('float32')\n",
    "print(a2,a2.dtype)\n",
    "\n",
    "a3 = a2.astype('int32')\n",
    "print(a3,a3.dtype)"
   ]
  },
  {
   "cell_type": "markdown",
   "metadata": {},
   "source": [
    "### 차원 과 Shape\n",
    "\n",
    "* 차원(Dimension, Rank) : 1,2,3차원,n차원, 첫 데이터까지의 대괄호의 갯수\n",
    "* Shape : 차원의 요소들의 수, 튜플형식\n",
    "##### 1 차원 Shape  : ( x, )\n",
    "##### 2 차원 Shape  : ( x, y)\n",
    "##### 3 차원 Shape  : ( x,y,z )\n",
    "     ....\n",
    "##### n차원 Shape  : ( x,y,z,........ )      "
   ]
  },
  {
   "cell_type": "code",
   "execution_count": 47,
   "metadata": {},
   "outputs": [
    {
     "name": "stdout",
     "output_type": "stream",
     "text": [
      "[ 0  1  2  3  4  5  6  7  8  9 10 11] <class 'numpy.ndarray'>\n",
      "(12,)\n",
      "<class 'tuple'>\n",
      "12\n",
      "[2 3 4 5 6 7 8 9] <class 'numpy.ndarray'>\n",
      "(8,)\n",
      "[ 0  2  4  6  8 10 12 14] <class 'numpy.ndarray'>\n",
      "(8,)\n"
     ]
    }
   ],
   "source": [
    "# 1차원 배열의 Shape\n",
    "# arange(start,end + 1,step)\n",
    "a = np.arange(12)\n",
    "print(a,type(a))\n",
    "print(a.shape)   # (12,)\n",
    "t = a.shape\n",
    "print(type(t))   # tuple\n",
    "print(a.shape[0])\n",
    "\n",
    "a2 = np.arange(2,10)\n",
    "print(a2,type(a2))\n",
    "print(a2.shape)   # (8,)\n",
    "\n",
    "a3 = np.arange(0,16,2)\n",
    "print(a3,type(a3))\n",
    "print(a3.shape)   # (8,)"
   ]
  },
  {
   "cell_type": "code",
   "execution_count": 60,
   "metadata": {},
   "outputs": [
    {
     "name": "stdout",
     "output_type": "stream",
     "text": [
      "[[0 1 2]\n",
      " [0 1 2]]\n",
      "(2, 3)\n",
      "2 3\n"
     ]
    }
   ],
   "source": [
    "# 2차원 배열의 Shape  : 행(row,가로, 수직,  axis = 0) 과 열(column,세로,수평,axis = 1)    ==> 필수 암기\n",
    "m = np.array([np.arange(3),np.arange(3)])\n",
    "# m = np.array([[0, 1, 2],[0, 1, 2]])\n",
    "print(m)\n",
    "print(m.shape)   # (2,3)\n",
    "print(m.shape[0],m.shape[1])"
   ]
  },
  {
   "cell_type": "markdown",
   "metadata": {},
   "source": [
    "### 배열의 shape 바꾸기 : reshape()함수"
   ]
  },
  {
   "cell_type": "code",
   "execution_count": 90,
   "metadata": {},
   "outputs": [
    {
     "name": "stdout",
     "output_type": "stream",
     "text": [
      "[ 0  1  2  3  4  5  6  7  8  9 10 11]\n",
      "(12,)\n",
      "[[ 0  1  2  3]\n",
      " [ 4  5  6  7]\n",
      " [ 8  9 10 11]]\n",
      "(3, 4)\n",
      "[[ 0  1  2]\n",
      " [ 3  4  5]\n",
      " [ 6  7  8]\n",
      " [ 9 10 11]]\n",
      "(4, 3)\n",
      "[[ 0  1  2  3  4  5]\n",
      " [ 6  7  8  9 10 11]]\n",
      "(2, 6)\n",
      "[[[ 0  1  2]\n",
      "  [ 3  4  5]]\n",
      "\n",
      " [[ 6  7  8]\n",
      "  [ 9 10 11]]]\n",
      "(2, 2, 3)\n",
      "[[[[ 0  1]]\n",
      "\n",
      "  [[ 2  3]]]\n",
      "\n",
      "\n",
      " [[[ 4  5]]\n",
      "\n",
      "  [[ 6  7]]]\n",
      "\n",
      "\n",
      " [[[ 8  9]]\n",
      "\n",
      "  [[10 11]]]]\n",
      "(3, 2, 1, 2)\n"
     ]
    }
   ],
   "source": [
    "m1 = np.arange(12)\n",
    "print(m1)\n",
    "print(m1.shape)   # (12,)\n",
    "\n",
    "m2 = m1.reshape(3,4)\n",
    "print(m2)\n",
    "print(m2.shape) # (3,4)\n",
    "\n",
    "m2 = m1.reshape(4,3)\n",
    "print(m2)\n",
    "print(m2.shape) # (4,3)\n",
    "\n",
    "m2 = m1.reshape(2,6)\n",
    "print(m2)\n",
    "print(m2.shape) # (2,6)\n",
    "\n",
    "m3 = m1.reshape(2,2,3)\n",
    "print(m3)\n",
    "print(m3.shape) # (2,2 ,3 )\n",
    "\n",
    "\n",
    "m3 = m1.reshape(3,2,1,2)\n",
    "print(m3)\n",
    "print(m3.shape) # ( 3, 2, 1, 1)"
   ]
  },
  {
   "cell_type": "code",
   "execution_count": 99,
   "metadata": {},
   "outputs": [
    {
     "name": "stdout",
     "output_type": "stream",
     "text": [
      "[ 0  1  2  3  4  5  6  7  8  9 10 11] (12,)\n",
      "[[ 0  1  2  3  4  5]\n",
      " [ 6  7  8  9 10 11]] (2, 6)\n",
      "[[ 0  1  2]\n",
      " [ 3  4  5]\n",
      " [ 6  7  8]\n",
      " [ 9 10 11]] (4, 3)\n",
      "[[ 0]\n",
      " [ 1]\n",
      " [ 2]\n",
      " [ 3]\n",
      " [ 4]\n",
      " [ 5]\n",
      " [ 6]\n",
      " [ 7]\n",
      " [ 8]\n",
      " [ 9]\n",
      " [10]\n",
      " [11]] (12, 1)\n"
     ]
    }
   ],
   "source": [
    "# -1 을 사용한 reshape()\n",
    "m = np.arange(12)\n",
    "print(m,m.shape)\n",
    "\n",
    "m2 = m.reshape(-1,6) # 행의 요소수를 자동으로 계산, 2로 계산\n",
    "print(m2,m2.shape)\n",
    "\n",
    "m3 = m.reshape(4,-1) # 열의 요소수를 자동으로 계산, 3으로 계산\n",
    "print(m3,m3.shape)\n",
    "\n",
    "m3 = m.reshape(-1,1) # 행의 요소수를 자동으로 계산, 2로 계산\n",
    "print(m3,m3.shape)"
   ]
  },
  {
   "cell_type": "markdown",
   "metadata": {},
   "source": [
    "### 배열의 인덱싱과 슬라이싱"
   ]
  },
  {
   "cell_type": "code",
   "execution_count": 108,
   "metadata": {},
   "outputs": [
    {
     "name": "stdout",
     "output_type": "stream",
     "text": [
      "[ 0  1  2  3  4  5  6  7  8  9 10 11]\n",
      "0 1 2 11\n",
      "[2 3 4 5 6 7] [ 0  1  2  3  4  5  6  7  8  9 10] [0 3 6 9] [11 10  9  8  7  6  5  4  3  2  1  0]\n",
      "[10  1  2  3  4  5  6  7  8  9 10 11]\n"
     ]
    }
   ],
   "source": [
    "# 1 차원 배열의 인덱싱과 슬라이싱 : list와 동일한 방법\n",
    "d = np.arange(12)\n",
    "print(d)\n",
    "print(d[0],d[1],d[2],d[-1])          # 배열의 인덱싱\n",
    "print(d[2:8],d[:-1],d[::3],d[::-1])  # 배열의 슬라이싱\n",
    "\n",
    "d[0] = 10                            # list 처럼 요소 수정이 가능\n",
    "print(d) "
   ]
  },
  {
   "cell_type": "code",
   "execution_count": 125,
   "metadata": {},
   "outputs": [
    {
     "name": "stdout",
     "output_type": "stream",
     "text": [
      "[[ 0  1  2  3]\n",
      " [ 4  5  6  7]\n",
      " [ 8  9 10 11]] (3, 4)\n",
      "0\n",
      "0\n",
      "10\n",
      "[0 1 2 3]\n",
      "[0 1 2 3]\n",
      "[[ 0  1  2]\n",
      " [ 4  5  6]\n",
      " [ 8  9 10]]\n",
      "[[ 0  2]\n",
      " [ 8 10]]\n",
      "[[20 20 20 20]\n",
      " [ 4  5  6  7]\n",
      " [ 8  9 10 11]]\n",
      "[[30 20 20 30]\n",
      " [ 4  5  6  7]\n",
      " [30  9 10 30]]\n",
      "[[-1 -1 -1 -1]\n",
      " [-1 -1 -1 -1]\n",
      " [-1 -1 -1 -1]]\n"
     ]
    }
   ],
   "source": [
    "# 2 차원 배열의 인덱싱과 슬라이싱\n",
    "# data[행,열]\n",
    "d = np.arange(12).reshape(3,4)\n",
    "print(d,d.shape)   # (3,4)\n",
    "\n",
    "\n",
    "# 인덱싱\n",
    "print(d[0,0])   # 0\n",
    "print(d[0][0])  # 0\n",
    "print(d[2,2])\n",
    "\n",
    "# 슬라이싱\n",
    "print(d[0])\n",
    "print(d[0,:])\n",
    "\n",
    "print(d[:,:-1])   # 마지막 열을 제외\n",
    "print(d[::2,::2])\n",
    "\n",
    "d[0] = 20\n",
    "print(d)\n",
    "\n",
    "d[::2,::3] = 30    # 한번에 슬라이싱된 요소 전체를 변경할 수 있다\n",
    "print(d)\n",
    "\n",
    "d[:,:] = -1\n",
    "print(d)"
   ]
  },
  {
   "cell_type": "code",
   "execution_count": 143,
   "metadata": {},
   "outputs": [
    {
     "name": "stdout",
     "output_type": "stream",
     "text": [
      "[[[ 0  1  2]\n",
      "  [ 3  4  5]]\n",
      "\n",
      " [[ 6  7  8]\n",
      "  [ 9 10 11]]]\n",
      "7\n",
      "7\n",
      "5\n",
      "[[[0 1]]\n",
      "\n",
      " [[6 7]]]\n",
      "[[[ 4  5]]\n",
      "\n",
      " [[10 11]]]\n",
      "[ 5 11]\n",
      "[[ 2  5]\n",
      " [ 8 11]]\n"
     ]
    }
   ],
   "source": [
    "# 3 차원 배열의 인덱싱과 슬라이싱\n",
    "# data[면,행,열]\n",
    "d = np.arange(12).reshape(2,2,3)\n",
    "print(d)\n",
    "\n",
    "# 인덱싱\n",
    "print(d[1,0,1])      #  7\n",
    "print(d[1][0][1])    #  7   old style\n",
    "print(d[0,1,2])      #  5 \n",
    "\n",
    "# 슬라이싱\n",
    "print(d[:,:-1,:-1])  # (2 ,1 ,2)\n",
    "print(d[:,1:,1:])    # (2 ,1 ,2)\n",
    "print(d[:,-1,-1])    # (2,)\n",
    "print(d[:,:,-1])     # (2,2)"
   ]
  },
  {
   "cell_type": "markdown",
   "metadata": {},
   "source": [
    "### fancy 인덱싱 : 리스트나 배열로 임의의 집합을 지정하여 인덱싱, (멋대로 내키는 대로 인덱싱) "
   ]
  },
  {
   "cell_type": "code",
   "execution_count": 152,
   "metadata": {},
   "outputs": [
    {
     "name": "stdout",
     "output_type": "stream",
     "text": [
      "[1 2 3 4 5 6] (6,)\n",
      "[2 4 6 3]\n",
      "[1 6 4]\n"
     ]
    }
   ],
   "source": [
    "# 1 차원 배열의 fancy 인덱싱\n",
    "# 배열명[[행1,행2,행3,...,행n]]\n",
    "a = np.array([1,2,3,4,5,6])\n",
    "print(a,a.shape)\n",
    "print(a[[1,3,5,2]])   # 인덱스를 인덱스로 사용\n",
    "print(a[[0,-1,-3]])"
   ]
  },
  {
   "cell_type": "code",
   "execution_count": 166,
   "metadata": {},
   "outputs": [
    {
     "name": "stdout",
     "output_type": "stream",
     "text": [
      "[[10 20 30]\n",
      " [40 50 60]\n",
      " [70 80 90]]\n",
      "------------------------------\n",
      "[10 80]\n",
      "------------------------------\n",
      "[[10 20]\n",
      " [70 80]]\n",
      "------------------------------\n",
      "10 80\n"
     ]
    }
   ],
   "source": [
    "# 2 차원 배열의 fancy 인덱싱\n",
    "# 배열명[[행1,행2,행3,...,행n],[열1,열2,열3,....열n]]\n",
    "a2 = np.arange(10,100,10).reshape(3,3)\n",
    "print(a2)\n",
    "print('-'*30)\n",
    "print(a2[[0,2],[0,1]])\n",
    "print('-'*30)\n",
    "print(a2[[0,2],:2])\n",
    "print('-'*30)\n",
    "\n",
    "print(a2[0,0],a2[2,1])"
   ]
  },
  {
   "cell_type": "markdown",
   "metadata": {},
   "source": [
    "### 불린 인덱싱  : 조건식을 사용한 인덱싱, 조건 검색 필터를 사용한 추출(매우 중요!!)"
   ]
  },
  {
   "cell_type": "code",
   "execution_count": 187,
   "metadata": {},
   "outputs": [
    {
     "name": "stdout",
     "output_type": "stream",
     "text": [
      "[1 2 3 4 5 6]\n",
      "[False False  True  True  True  True]\n",
      "[3 4 5 6]\n",
      "[ True False  True False  True False]\n",
      "[1 3 5]\n",
      "[1 2 4 5 6]\n",
      "[3 4 5]\n",
      "[2 4 6]\n",
      "[1 2 3]\n",
      "[[1 2 3 4 5 6]]\n",
      "[]\n"
     ]
    },
    {
     "data": {
      "text/plain": [
       "3.5"
      ]
     },
     "execution_count": 187,
     "metadata": {},
     "output_type": "execute_result"
    }
   ],
   "source": [
    "a = np.array([1,2,3,4,5,6])\n",
    "print(a)\n",
    "\n",
    "print( a > 2)   # [False False  True  True  True True]\n",
    "print(a[a > 2])\n",
    "\n",
    "# r = []\n",
    "# for k in a:\n",
    "#     if k > 2:\n",
    "#       r.append(k)  \n",
    "# print('result:',r)    \n",
    "\n",
    "boolean_index = np.array([True,False,True,False,True,False])\n",
    "print(boolean_index)\n",
    "print(a[boolean_index])\n",
    "\n",
    "print(a[a != 3])\n",
    "print(a[(a > 2) & (a < 6)])\n",
    "print(a[(a % 2) == 0])  # 2의 배수만 필터링해서 얻어옴\n",
    "print(a[ a < a.mean()]) # 평균보다 작은 값만 필터링해서 얻어옴\n",
    "\n",
    "# print(a[True])  # 모든 요소가 출력\n",
    "# print(a[False]) # 빈 배열이 출력"
   ]
  },
  {
   "cell_type": "markdown",
   "metadata": {},
   "source": [
    "### 배열의 형상 다루기 : reshape(), 편평화(flatten()), 전치(transpose())"
   ]
  },
  {
   "cell_type": "code",
   "execution_count": 202,
   "metadata": {},
   "outputs": [
    {
     "name": "stdout",
     "output_type": "stream",
     "text": [
      "[[ 0  1  2  3]\n",
      " [ 4  5  6  7]\n",
      " [ 8  9 10 11]]\n",
      "[ 0  1  2  3  4  5  6  7  8  9 10 11] (12,)\n",
      "[[ 0  1  2  3]\n",
      " [ 4  5  6  7]\n",
      " [ 8  9 10 11]]\n",
      "[[ 8  9 10 11]\n",
      " [ 4  5  6  7]\n",
      " [ 0  1  2  3]]\n",
      "[[ 3  2  1  0]\n",
      " [ 7  6  5  4]\n",
      " [11 10  9  8]]\n",
      "[[11 10  9  8]\n",
      " [ 7  6  5  4]\n",
      " [ 3  2  1  0]]\n",
      "[[ 0  4  8]\n",
      " [ 1  5  9]\n",
      " [ 2  6 10]\n",
      " [ 3  7 11]] (4, 3)\n",
      "[[0 0 0 0]\n",
      " [0 0 0 0]\n",
      " [0 0 0 0]] (3, 4)\n"
     ]
    }
   ],
   "source": [
    "# flatten() : 다차원 배열을 1차원으로 만든다\n",
    "d = np.arange(12).reshape(3,4)\n",
    "print(d)\n",
    "\n",
    "f = d.flatten()    # (3,4)  --> (12,)\n",
    "print(f,f.shape)\n",
    "\n",
    "r = f.reshape(3,4)\n",
    "print(r)\n",
    "\n",
    "\n",
    "# 데이터 순서를 거꾸로 변경\n",
    "print(d[::-1])       # 행의 순서를 거꾸로 변경\n",
    "print(d[:,::-1])     # 열의 순서를 거꾸로 변경\n",
    "print(d[::-1,::-1])  # 행과열의 순서를 거꾸로 변경\n",
    "\n",
    "\n",
    "# transpose() : 전치 행렬, 행과 열을 서로 맞바꾸는 함수\n",
    "t = d.transpose()\n",
    "print(t,t.shape)    # (4,3)\n",
    "\n",
    "# 임시로 1차원으로 변경하여 데이터를 채우고 다시 원래의 shape을 갖는다\n",
    "d.flat = 0\n",
    "print(d,d.shape)"
   ]
  },
  {
   "cell_type": "markdown",
   "metadata": {},
   "source": [
    "### numpy 속성(Attribute) : 클래스의 인스턴스 멤버 변수\n",
    "#### dtype,shape,ndim,flat,T,size,nbytes"
   ]
  },
  {
   "cell_type": "code",
   "execution_count": 212,
   "metadata": {},
   "outputs": [
    {
     "name": "stdout",
     "output_type": "stream",
     "text": [
      "[[ 0  1  2  3]\n",
      " [ 4  5  6  7]\n",
      " [ 8  9 10 11]]\n",
      "(3, 4)\n",
      "int32\n",
      "2\n",
      "[[ 0  4  8]\n",
      " [ 1  5  9]\n",
      " [ 2  6 10]\n",
      " [ 3  7 11]]\n",
      "48\n",
      "12\n",
      "[[-1 -1 -1 -1]\n",
      " [-1 -1 -1 -1]\n",
      " [-1 -1 -1 -1]]\n"
     ]
    }
   ],
   "source": [
    "a = np.arange(12).reshape(3,4)\n",
    "print(a)\n",
    "print(a.shape)   # (3,4)\n",
    "print(a.dtype)   # int32 \n",
    "print(a.ndim)    # 2\n",
    "print(a.T)      # transpose() 함수와 동일\n",
    "print(a.nbytes) # 4 bytes * 12 --> 48 bytes\n",
    "print(a.size)   # 12\n",
    "a.flat = -1\n",
    "print(a)"
   ]
  },
  {
   "cell_type": "code",
   "execution_count": 3,
   "metadata": {},
   "outputs": [
    {
     "name": "stdout",
     "output_type": "stream",
     "text": [
      "[[ 0  1  2  3]\n",
      " [ 4  5  6  7]\n",
      " [ 8  9 10 11]]\n",
      "11\n",
      "0\n",
      "66\n",
      "5.5\n",
      "3.452052529534663\n",
      "11.916666666666666\n",
      "5.5\n",
      "50%: 5.5\n",
      "25%: 2.75\n"
     ]
    }
   ],
   "source": [
    "## numpy 통계 함수들\n",
    "import numpy as np\n",
    "a = np.arange(12).reshape(3,4)\n",
    "print(a)\n",
    "print(a.max())  # np.max(a)\n",
    "print(a.min())  # np.min(a)\n",
    "print(a.sum())\n",
    "\n",
    "print(a.mean())\n",
    "print(a.std())\n",
    "print(a.var())\n",
    "print(np.median(a))\n",
    "\n",
    "from scipy.stats import scoreatpercentile\n",
    "print('50%:',scoreatpercentile(a,50))    # median()과 같은 값을 출력\n",
    "print('25%:',scoreatpercentile(a,25))    # median()과 같은 값을 출력, 1 사분위수"
   ]
  },
  {
   "cell_type": "code",
   "execution_count": 18,
   "metadata": {},
   "outputs": [
    {
     "name": "stdout",
     "output_type": "stream",
     "text": [
      "[[1 2 3]\n",
      " [4 5 6]\n",
      " [7 8 9]] (3, 3)\n",
      "45\n",
      "[12 15 18]\n",
      "[ 6 15 24]\n"
     ]
    }
   ],
   "source": [
    "# axis 사용법\n",
    "a = np.array([[1,2,3],\n",
    "              [4,5,6],\n",
    "              [7,8,9]])\n",
    "print(a,a.shape)\n",
    "print(a.sum())\n",
    "# print(a.sum(1,None))\n",
    "# print(a.sum(axis = -1))\n",
    "print(a.sum(axis = 0))\n",
    "print(a.sum(axis = 1))"
   ]
  },
  {
   "cell_type": "code",
   "execution_count": 28,
   "metadata": {},
   "outputs": [
    {
     "name": "stdout",
     "output_type": "stream",
     "text": [
      "[9 2 8 3 1 4 5 6]\n",
      "[9 2 8 3 1 4 5 6] [1 2 3 4 5 6 8 9]\n",
      "[9 8 6 5 4 3 2 1]\n"
     ]
    }
   ],
   "source": [
    "# sort() 함수\n",
    "a = np.array([9,2,8,3,1,4,5,6])\n",
    "print(a)\n",
    "\n",
    "r = np.sort(a)   # 오름 차순 , 원본 변경 없음, sort 된 값을 반환\n",
    "print(a,r)\n",
    "\n",
    "a.sort()         # 오름 차순 , 원본 자체를 sort, 반환 값 없음\n",
    "print(a)\n",
    "\n",
    "r = np.sort(a)[::-1]  # 내림 차순 : 오름 차순 정렬한 뒤 순서를 거꾸로 바꿈 \n",
    "print(r)"
   ]
  },
  {
   "cell_type": "code",
   "execution_count": 33,
   "metadata": {},
   "outputs": [
    {
     "name": "stdout",
     "output_type": "stream",
     "text": [
      "[9 2 8 3 1 4 5 6]\n",
      "<class 'numpy.ndarray'>\n",
      "[4 1 3 5 6 7 2 0]\n"
     ]
    }
   ],
   "source": [
    "# argsort() 함수\n",
    "a = np.array([9,2,8,3,1,4,5,6])\n",
    "print(a)\n",
    "\n",
    "sort_index = np.argsort(a)   # sort 된 후 해당 값의 인덱스(원본기준)를 반환\n",
    "print(type(sort_index))\n",
    "print(sort_index)"
   ]
  },
  {
   "cell_type": "code",
   "execution_count": 100,
   "metadata": {},
   "outputs": [
    {
     "data": {
      "image/png": "[encoded data removed]",
      "text/plain": [
       "<Figure size 432x288 with 3 Axes>"
      ]
     },
     "metadata": {
      "needs_background": "light"
     },
     "output_type": "display_data"
    }
   ],
   "source": [
    "# raccoon (오리너구리 사진 처리)\n",
    "# View : 원본 객체와 메모리를 공유하는 사본\n",
    "# Copy : 원본 객체와 다른 별도의 메모리를 사용하는 사본\n",
    "\n",
    "import scipy.misc \n",
    "import matplotlib.pyplot as plt\n",
    "\n",
    "face = scipy.misc.face()   #  read_only 용\n",
    "face2 = face.copy()        #  별도의 메모리에 복사본이 생성 , Read and Write 가능\n",
    "\n",
    "f_view = face2.view()    # face2 원본 객체와 메모리를 공유하는 사본\n",
    "f_copy = face2.copy()    # face2 원본 객체와 다른 별도의 메모리를 사용하는 사본\n",
    "\n",
    "# f_view.flat = 0\n",
    "# f_copy.flat = 0\n",
    "# face2.flat = 0\n",
    "\n",
    "# print(type(face))\n",
    "# print(face.shape)          # (768, 1024, 3)  , (y,x,rgb)\n",
    "# print(face.nbytes/1024)    # 2.3 Mbytes\n",
    "# print(face)\n",
    "plt.subplot(2,2,1)    # 화면을 분할하여 출력, plt.subplot(221)로 해도 같은 결과, 2,2 는 4개의 그래프로, 1은 첫번째 위치에 출력\n",
    "plt.imshow(face2)     # 사진을 그래프에 그린다 \n",
    "\n",
    "plt.subplot(2,2,2)\n",
    "plt.imshow(f_view)\n",
    "\n",
    "plt.subplot(2,2,3)\n",
    "plt.imshow(f_copy)\n",
    "\n",
    "plt.show()   #  윈도 새 프레임창에 그래프 전체를 출력 시킴"
   ]
  },
  {
   "cell_type": "code",
   "execution_count": 92,
   "metadata": {},
   "outputs": [
    {
     "name": "stdout",
     "output_type": "stream",
     "text": [
      "(768, 1024, 3)\n",
      "121\n",
      "start: 1587438841.1667368\n",
      "end: 1587438841.1677372\n",
      "실행 소요 시간: 0.0010004043579101562\n",
      "[[[-10  -1   0]]\n",
      "\n",
      " [[  1   2   3]]\n",
      "\n",
      " [[  4   5   6]]\n",
      "\n",
      " [[  7 100 200]]]\n",
      "[[[-10  -1   0]]\n",
      "\n",
      " [[  1   2   0]]\n",
      "\n",
      " [[  4   5   0]]\n",
      "\n",
      " [[  7 100   0]]]\n",
      "[[[-10  -1   0]]\n",
      "\n",
      " [[  1   2   3]]\n",
      "\n",
      " [[ 10  10  10]]\n",
      "\n",
      " [[ 10  10  10]]]\n",
      "[[ 10]\n",
      " [  3]\n",
      " [  6]\n",
      " [200]]\n",
      "[[[-10  -1  10]]\n",
      "\n",
      " [[  1   2   3]]\n",
      "\n",
      " [[  4   5  10]]\n",
      "\n",
      " [[  7 100  10]]]\n"
     ]
    }
   ],
   "source": [
    "# 실습과제 힌트\n",
    "\n",
    "# [1] face2 3차원 데이터의 인덱싱\n",
    "print(face2.shape)          # (768, 1024, 3)  , (y,x,rgb)\n",
    "# print(face2)\n",
    "#    Red (8bit)   : Green(8bit)   : Blue(8bit)\n",
    "#    11111111       11111111        11111111\n",
    "print(face2[0,0,0]) \n",
    "# face2[0][0][0]   #old style\n",
    "# print(face2[:,:,0])   # Red\n",
    "# print(face2[:,:,1])   # Green\n",
    "# print(face2[:,:,2])   # Blue\n",
    "# print(face2)\n",
    "\n",
    "# [2] 파이썬 소스코드 실행 시간 측정\n",
    "import time\n",
    "start = time.time()    #  2020-04-21 11:31\n",
    "print('start:',start)\n",
    "# ----------------------------\n",
    "# total = 0\n",
    "# for k in range(10000000) :\n",
    "#     total = total + k*100\n",
    "# ----------------------------    \n",
    "end = time.time()\n",
    "print('end:',end)\n",
    "\n",
    "print('실행 소요 시간:',end - start)\n",
    "\n",
    "# [3] 조건 검색(불린 인덱스)\n",
    "data = [-10,-1,0,1,2,3,4,5,6,7,100,200]\n",
    "a = np.array(data).reshape(4,1,3)\n",
    "b = a.copy()\n",
    "print(b)\n",
    "\n",
    "# 3번째 열을 모두 0 으로 변경  : (면,행,열)\n",
    "b[:,:,2] = 0\n",
    "print(b)\n",
    "\n",
    "# 3 보다 큰 값을 모두 10으로 변경\n",
    "b = a.copy()\n",
    "b[b > 3] = 10\n",
    "print(b)\n",
    "\n",
    "# 3번째 열중에서 3보다 큰 값을 모두 10으로 변경\n",
    "b = a.copy()\n",
    "\n",
    "c = b[:,:,2]\n",
    "c[c > 3] = 10\n",
    "print(c)    # 2차원\n",
    "\n",
    "b[:,:,2][b[:,:,2] > 3] = 10\n",
    "print(b)"
   ]
  },
  {
   "cell_type": "code",
   "execution_count": 111,
   "metadata": {},
   "outputs": [
    {
     "name": "stdout",
     "output_type": "stream",
     "text": [
      "255\n",
      "elapsed time : 0.018054723739624023\n"
     ]
    },
    {
     "data": {
      "image/png": "[encoded data removed]",
      "text/plain": [
       "<Figure size 432x288 with 4 Axes>"
      ]
     },
     "metadata": {
      "needs_background": "light"
     },
     "output_type": "display_data"
    }
   ],
   "source": [
    "# 2번\n",
    "face = scipy.misc.face()   # face: read only\n",
    "face01 = face.copy()        # face01: read and write 가능\n",
    "face02 = face.copy()        # face02: read and write 가능\n",
    "face03 = face.copy()        # face03: read and write 가능\n",
    "face04 = face.copy()        # face04: read and write 가능\n",
    "\n",
    "print(face.max())\n",
    "# 2.1  Red 색상을 모두 0 으로 변경하여 출력한다\n",
    "face01[:,:,0] = 0\n",
    "# face01[:,:,0][face[:,:,0] < 100 ] = 0\n",
    "\n",
    "# 2.2  Green 색상을 모두 0 으로 변경하여 출력한다\n",
    "face02[:,:,1] = 0\n",
    "# face02[:,:,1][face[:,:,1] < 100 ] = 0\n",
    "\n",
    "# 2.3  Blue 색상을 모두 0 으로 변경하여 출력한다\n",
    "face03[:,:,2] = 0\n",
    "# face03[:,:,2][face[:,:,2] < 100 ] = 0\n",
    "\n",
    "# 2.4  Red, Green, Blue 색상 중  100보다 작은 경우\n",
    "# 모두 0 으로 변경하여 출력한다\n",
    "#\n",
    "time_start = time.time()\n",
    "face04[face < 100] = 0\n",
    "time_end = time.time()\n",
    "print('elapsed time :',time_end - time_start)      # 0.018054723739624023\n",
    "\n",
    "# 중첩된 for문 사용하기  # 768*1024*3회 반복\n",
    "# time_start = time.time()\n",
    "# xmax = face.shape[0]\n",
    "# ymax = face.shape[1]\n",
    "# zmax = face.shape[2]\n",
    "# for i in range(xmax):  # 면  , 768\n",
    "#     for j in range(ymax):  # 행 , 1024\n",
    "#         for k in range(zmax):  # 열 , 3\n",
    "#             if face[i][j][k] < 100:\n",
    "#                 face04[i][j][k] = 0\n",
    "\n",
    "# time_end = time.time()\n",
    "# print('elapsed time :',time_end - time_start)   # 25.04366397857666\n",
    "\n",
    "plt.subplot(221)\n",
    "plt.imshow(face01)\n",
    "\n",
    "plt.subplot(222)\n",
    "plt.imshow(face02)\n",
    "\n",
    "plt.subplot(223)\n",
    "plt.imshow(face03)\n",
    "\n",
    "plt.subplot(224)\n",
    "plt.imshow(face04)\n",
    "plt.show()"
   ]
  },
  {
   "cell_type": "markdown",
   "metadata": {},
   "source": [
    "### 배열 합치기\n",
    "* 수직(v,행)으로 합치기 : vstack(), row_stack(), concatenate(..,axis=0)\n",
    "* 수평(h,열)으로 합치기 : hstack(), column_stack(), concatenate(..,axis=1)"
   ]
  },
  {
   "cell_type": "code",
   "execution_count": 118,
   "metadata": {},
   "outputs": [
    {
     "name": "stdout",
     "output_type": "stream",
     "text": [
      "[[0 1 2]\n",
      " [3 4 5]\n",
      " [6 7 8]]\n",
      "[[ 0  2  4]\n",
      " [ 6  8 10]\n",
      " [12 14 16]]\n",
      "[[ 0  1  2]\n",
      " [ 3  4  5]\n",
      " [ 6  7  8]\n",
      " [ 0  2  4]\n",
      " [ 6  8 10]\n",
      " [12 14 16]] (6, 3)\n",
      "[[ 0  1  2]\n",
      " [ 3  4  5]\n",
      " [ 6  7  8]\n",
      " [ 0  2  4]\n",
      " [ 6  8 10]\n",
      " [12 14 16]]\n",
      "[[ 0  1  2]\n",
      " [ 3  4  5]\n",
      " [ 6  7  8]\n",
      " [ 0  2  4]\n",
      " [ 6  8 10]\n",
      " [12 14 16]]\n"
     ]
    }
   ],
   "source": [
    "# 수직으로 합치기\n",
    "a = np.arange(9).reshape(3,3)\n",
    "b = a * 2\n",
    "print(a)\n",
    "print(b)\n",
    "\n",
    "r = np.vstack((a,b))                 # 수직\n",
    "print(r,r.shape)  # (6,3)\n",
    "\n",
    "c = np.row_stack((a,b))              # 행\n",
    "print(c)\n",
    "\n",
    "x = np.concatenate((a,b),axis = 0)  # 행, axis = 0\n",
    "print(x)"
   ]
  },
  {
   "cell_type": "code",
   "execution_count": 121,
   "metadata": {},
   "outputs": [
    {
     "name": "stdout",
     "output_type": "stream",
     "text": [
      "[[0 1 2]\n",
      " [3 4 5]\n",
      " [6 7 8]]\n",
      "[[ 0  2  4]\n",
      " [ 6  8 10]\n",
      " [12 14 16]]\n",
      "[[ 0  1  2  0  2  4]\n",
      " [ 3  4  5  6  8 10]\n",
      " [ 6  7  8 12 14 16]] (3, 6)\n",
      "[[ 0  1  2  0  2  4]\n",
      " [ 3  4  5  6  8 10]\n",
      " [ 6  7  8 12 14 16]]\n",
      "[[ 0  1  2  0  2  4]\n",
      " [ 3  4  5  6  8 10]\n",
      " [ 6  7  8 12 14 16]]\n"
     ]
    }
   ],
   "source": [
    "# 수평으로 합치기\n",
    "a = np.arange(9).reshape(3,3)\n",
    "b = a * 2\n",
    "print(a)\n",
    "print(b)\n",
    "\n",
    "r = np.hstack((a,b))                 # 수평\n",
    "print(r,r.shape)  # (3,6)\n",
    "\n",
    "c = np.column_stack((a,b))           # 열\n",
    "print(c)\n",
    "\n",
    "x = np.concatenate((a,b),axis = 1)  # 열, axis = 1\n",
    "print(x)"
   ]
  },
  {
   "cell_type": "markdown",
   "metadata": {},
   "source": [
    "### 쪼개기\n",
    "* vsplit(배열,행의 갯수) : 수직, split(배열,행의갯수,axis=0)\n",
    "* hsplit(배열,열의 갯수) : 수평, split(배열,열의갯수,axis=1)"
   ]
  },
  {
   "cell_type": "code",
   "execution_count": 128,
   "metadata": {},
   "outputs": [
    {
     "name": "stdout",
     "output_type": "stream",
     "text": [
      "[[ 0  1  2]\n",
      " [ 3  4  5]\n",
      " [ 6  7  8]\n",
      " [ 9 10 11]]\n",
      "[array([[0, 1, 2]]), array([[3, 4, 5]]), array([[6, 7, 8]]), array([[ 9, 10, 11]])]\n",
      "[array([[0, 1, 2]]), array([[3, 4, 5]]), array([[6, 7, 8]]), array([[ 9, 10, 11]])]\n",
      "[[ 0  1  2  3]\n",
      " [ 4  5  6  7]\n",
      " [ 8  9 10 11]]\n",
      "[array([[0],\n",
      "       [4],\n",
      "       [8]]), array([[1],\n",
      "       [5],\n",
      "       [9]]), array([[ 2],\n",
      "       [ 6],\n",
      "       [10]]), array([[ 3],\n",
      "       [ 7],\n",
      "       [11]])]\n",
      "[array([[0],\n",
      "       [4],\n",
      "       [8]]), array([[1],\n",
      "       [5],\n",
      "       [9]]), array([[ 2],\n",
      "       [ 6],\n",
      "       [10]]), array([[ 3],\n",
      "       [ 7],\n",
      "       [11]])]\n"
     ]
    }
   ],
   "source": [
    "a = np.arange(12).reshape(4,3)\n",
    "print(a)\n",
    "\n",
    "print(np.vsplit(a,4))\n",
    "print(np.split(a,4,axis=0))\n",
    "\n",
    "a = np.arange(12).reshape(3,4)\n",
    "print(a)\n",
    "\n",
    "print(np.hsplit(a,4))\n",
    "print(np.split(a,4,axis=1))"
   ]
  },
  {
   "cell_type": "markdown",
   "metadata": {},
   "source": [
    "### 행렬(Matrix) : 선형대수(linear algebra)\n",
    "#### 행렬 내적 곱셈(dot product)"
   ]
  },
  {
   "cell_type": "code",
   "execution_count": 151,
   "metadata": {},
   "outputs": [
    {
     "name": "stdout",
     "output_type": "stream",
     "text": [
      "[[1 2 3]\n",
      " [4 5 6]]\n",
      "[[ 7  8]\n",
      " [ 9 10]\n",
      " [11 12]]\n",
      "[[ 58  64]\n",
      " [139 154]]\n",
      "<class 'numpy.ndarray'>\n"
     ]
    }
   ],
   "source": [
    "A = np.array([[1,2,3],\n",
    "              [4,5,6]])\n",
    "B = np.array([[7,8],\n",
    "              [9,10],\n",
    "              [11,12]])\n",
    "print(A)  # (2,3)\n",
    "print(B)  # (3,2)\n",
    "\n",
    "dot_product = np.dot(A,B)\n",
    "print(dot_product)\n",
    "print(type(A))\n",
    "# A*B   # ValueError, elementwise 곱셈(요소간의 곱셈), shape이 같아야만 계산가능\n",
    "\n",
    "# (2,3) * (3,2)  = (2, 2)\n",
    "# (m,n) * (n,l) = (m,l)   # 행렬 내적 곱셈시 shape 공식: 필수 암기요망!!\n",
    "\n",
    "# (10,4) * (x,y) = (10,2) # x = 4, y = 2 를 구할 수 있어야한다"
   ]
  },
  {
   "cell_type": "code",
   "execution_count": 152,
   "metadata": {},
   "outputs": [
    {
     "name": "stdout",
     "output_type": "stream",
     "text": [
      "[[1 2 3]\n",
      " [4 5 6]]\n",
      "[[ 7  8]\n",
      " [ 9 10]\n",
      " [11 12]]\n",
      "<class 'numpy.matrix'>\n",
      "[[ 58  64]\n",
      " [139 154]]\n"
     ]
    }
   ],
   "source": [
    "A = np.mat(\"1 2 3;4 5 6\")\n",
    "B = np.mat(\"7 8;9 10;11 12\")\n",
    "print(A)\n",
    "print(B)\n",
    "print(type(A)) # <class 'numpy.matrix'>\n",
    "print(A*B)     # dot(내적 곱셈)연산"
   ]
  },
  {
   "cell_type": "markdown",
   "metadata": {},
   "source": [
    "### 역행렬 구하기"
   ]
  },
  {
   "cell_type": "code",
   "execution_count": 163,
   "metadata": {},
   "outputs": [
    {
     "name": "stdout",
     "output_type": "stream",
     "text": [
      "<class 'numpy.matrix'>\n",
      "[[ 2  4  6]\n",
      " [ 4  2  6]\n",
      " [10 -4 18]]\n",
      "[[-0.41666667  0.66666667 -0.08333333]\n",
      " [ 0.08333333  0.16666667 -0.08333333]\n",
      " [ 0.25       -0.33333333  0.08333333]]\n",
      "[[ 1.00000000e+00 -2.22044605e-16  0.00000000e+00]\n",
      " [ 5.55111512e-17  1.00000000e+00  0.00000000e+00]\n",
      " [ 3.88578059e-16 -4.44089210e-16  1.00000000e+00]]\n",
      "[[ 0.00000000e+00 -2.22044605e-16  0.00000000e+00]\n",
      " [ 5.55111512e-17 -4.44089210e-16  0.00000000e+00]\n",
      " [ 3.88578059e-16 -4.44089210e-16  0.00000000e+00]]\n"
     ]
    }
   ],
   "source": [
    "A = np.mat(\"2 4 6;4 2 6;10 -4 18\")\n",
    "print(type(A))\n",
    "print(A)\n",
    "\n",
    "inverse = np.linalg.inv(A)  # A의 역행렬 반환\n",
    "print(inverse)\n",
    "print(A*inverse)     # 행렬 A * A 의 역행렬 => 항등(=단위)행렬(대각선으는 1이고 나머지는 0인 행렬, '영 행렬')\n",
    "print(A*inverse - np.eye(3))   # 항등행렬 - 항등행렬 --> 요소가 모두 0이 된다"
   ]
  },
  {
   "cell_type": "code",
   "execution_count": 165,
   "metadata": {},
   "outputs": [
    {
     "name": "stdout",
     "output_type": "stream",
     "text": [
      "A: [[ 1 -2  1]\n",
      " [ 0  2 -8]\n",
      " [-4  5  9]]\n",
      "b: [ 0  8 -9]\n"
     ]
    }
   ],
   "source": [
    "## 선형방정식 풀이 : 선형시스템을 해석\n",
    "A = np.mat(\"1 -2 1;0 2 -8;-4 5 9\")\n",
    "print(\"A:\",A)\n",
    "b = np.array([0,8,-9])\n",
    "print(\"b:\",b)\n",
    "# 연립 방정식\n",
    "# 1*x0 - 2*x1 + 1*x2 = 0       , 29 - 32 + 3 = 0\n",
    "# 0*x0 + 2*x1 - 8*x2 = 8\n",
    "# -4*x0 + 5*x1 + 9*x2 = -9"
   ]
  },
  {
   "cell_type": "code",
   "execution_count": 167,
   "metadata": {},
   "outputs": [
    {
     "name": "stdout",
     "output_type": "stream",
     "text": [
      "Solution: [29. 16.  3.]\n",
      "Check\n",
      " [[ 0.  8. -9.]]\n"
     ]
    }
   ],
   "source": [
    "x = np.linalg.solve(A,b)\n",
    "print('Solution:',x)\n",
    "print(\"Check\\n\",np.dot(A,x))\n",
    "\n",
    "# A dot x => b\n",
    "\n",
    "# [[ 1 -2  1]         [[ 29         [[ 0\n",
    "#  [ 0  2 -8]    dot    16      ==>    8\n",
    "#  [-4  5  9]]          3 ]]          -9 ]]\n",
    "\n",
    "#    (3,3)       *    (3,1)    ==>  (3,1)"
   ]
  },
  {
   "cell_type": "code",
   "execution_count": 176,
   "metadata": {},
   "outputs": [
    {
     "name": "stdout",
     "output_type": "stream",
     "text": [
      "[[29.  11.5  7. ]\n",
      " [16.   6.5  4. ]\n",
      " [ 4.   1.5  1. ]]\n",
      "[[29. 16.  3.]]\n"
     ]
    }
   ],
   "source": [
    "# 역행렬을 사용하여 연립방정식 답을 구하기\n",
    "# A dot x => b\n",
    "# x = A의 역행렬 * b\n",
    "inverse = np.linalg.inv(A)  # A의 역행렬 반환\n",
    "print(inverse)\n",
    "x = np.dot(inverse,b)\n",
    "print(x)"
   ]
  },
  {
   "cell_type": "code",
   "execution_count": 180,
   "metadata": {},
   "outputs": [
    {
     "name": "stdout",
     "output_type": "stream",
     "text": [
      "[0. 0. 0. 0. 0. 0. 0. 0. 0. 0.]\n",
      "[[0. 0. 0. 0.]\n",
      " [0. 0. 0. 0.]\n",
      " [0. 0. 0. 0.]]\n",
      "[1. 1. 1. 1. 1. 1. 1. 1. 1. 1.]\n",
      "[[1. 1. 1. 1.]\n",
      " [1. 1. 1. 1.]\n",
      " [1. 1. 1. 1.]]\n"
     ]
    }
   ],
   "source": [
    "# 기타 연산자 : zeros(),ones()\n",
    "zero_data = np.zeros(10)\n",
    "print(zero_data)\n",
    "\n",
    "zero_data = np.zeros((3,4))\n",
    "print(zero_data)\n",
    "\n",
    "one_data = np.ones(10)\n",
    "print(one_data)\n",
    "\n",
    "one_data = np.ones((3,4))\n",
    "print(one_data)\n"
   ]
  },
  {
   "cell_type": "code",
   "execution_count": 204,
   "metadata": {},
   "outputs": [
    {
     "name": "stdout",
     "output_type": "stream",
     "text": [
      "[[0.22199317 0.87073231 0.20671916 0.91861091]\n",
      " [0.48841119 0.61174386 0.76590786 0.51841799]\n",
      " [0.2968005  0.18772123 0.08074127 0.7384403 ]]\n",
      "[[1 4 6 2]\n",
      " [9 9 9 9]\n",
      " [1 2 7 0]]\n",
      "[[ 0.07453116  0.55653535  1.97258009 -0.24106628]\n",
      " [ 0.36337589  1.07448417 -1.99994678  0.95853877]\n",
      " [ 0.94220227  0.5689886   0.92890695  1.22638799]]\n"
     ]
    }
   ],
   "source": [
    "# 난수 발생 함수\n",
    "# rand() : 실수 , randint() :정수 , randn() : 정규 분포(standard normal distribution)\n",
    "np.random.seed(5)\n",
    "print(np.random.rand(3,4))  #  값의 범위 : 0 ~ 1 사이  ,shape : (3,4)\n",
    "print(np.random.randint(10,size=(3,4)))  #  값의 범위 : 0 ~ 10 사이  ,shape : (3,4)\n",
    "print(np.random.randn(3,4))  #정규 분포"
   ]
  },
  {
   "cell_type": "code",
   "execution_count": 197,
   "metadata": {},
   "outputs": [],
   "source": []
  },
  {
   "cell_type": "code",
   "execution_count": null,
   "metadata": {},
   "outputs": [],
   "source": []
  }
 ],
 "metadata": {
  "kernelspec": {
   "display_name": "Python 3",
   "language": "python",
   "name": "python3"
  },
  "language_info": {
   "codemirror_mode": {
    "name": "ipython",
    "version": 3
   },
   "file_extension": ".py",
   "mimetype": "text/x-python",
   "name": "python",
   "nbconvert_exporter": "python",
   "pygments_lexer": "ipython3",
   "version": "3.7.6"
  }
 },
 "nbformat": 4,
 "nbformat_minor": 4
}
