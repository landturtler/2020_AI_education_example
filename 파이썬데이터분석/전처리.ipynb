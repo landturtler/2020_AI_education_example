{
 "cells": [
  {
   "cell_type": "markdown",
   "metadata": {},
   "source": [
    "### 전처리(Preprocessing)\n",
    "* 원본 raw 데이터의 품질이 좋지 않아서 가공하여 데이터의 품질을 향상 시키는 과정"
   ]
  },
  {
   "cell_type": "markdown",
   "metadata": {},
   "source": [
    "(1) 표준화(Standardization) : 데이터가 평균으로 부터 얼마나 떨어져 있는지를 나타내는 값으로, 특정 범위를 벗어난 데이터를 \n",
    "    이상치(outlier)로 간주하여 제거한다, StandardScaler사용, Z = ( X - mean())/std()\n",
    "\n",
    "(2) 정규화(Normalization) : 데이터를 범위를 일치시키거나 분포를 유사하게 만들어 주는 기능, 데이터 범위를 0 ~ 1 사이의 값으로 변환\n",
    "    MinMaxScaler사용,  Z = (X - min())/(max() - min())"
   ]
  },
  {
   "cell_type": "markdown",
   "metadata": {},
   "source": [
    "#### 데이터 분석 절차\n",
    "데이터 표준화를 통해 outlier를 제거하고, 그 다음에 데이터 정규화를 하여 상대적 크기의 영향력을 줄인 다음 분석을 시작한다"
   ]
  },
  {
   "cell_type": "code",
   "execution_count": 2,
   "metadata": {},
   "outputs": [],
   "source": [
    "import numpy as np\n",
    "import pandas as pd\n",
    "import matplotlib.pyplot as plt"
   ]
  },
  {
   "cell_type": "markdown",
   "metadata": {},
   "source": [
    "### 표준화(Standardization)"
   ]
  },
  {
   "cell_type": "code",
   "execution_count": 16,
   "metadata": {},
   "outputs": [
    {
     "name": "stdout",
     "output_type": "stream",
     "text": [
      "raw_data:\n",
      " [[221   2 400 680]\n",
      " [ 38  64 701 518]\n",
      " [426 296 991 163]]\n",
      "numpy standardized data:\n",
      " [[-0.04627141 -0.93780378 -1.23227225  1.04827148]\n",
      " [-1.20095343 -0.44782765  0.01519618  0.29796229]\n",
      " [ 1.24722484  1.38563143  1.21707607 -1.34623377]]\n"
     ]
    }
   ],
   "source": [
    "# (1) Numpy를 이용한 표준화\n",
    "# Z = ( X - mean())/std()\n",
    "\n",
    "data = np.random.randint(1000, size=(3,4))  # 0 ~ 999 까지의 정수\n",
    "print('raw_data:\\n',data)\n",
    "\n",
    "data_stand_np = ( data - np.mean(data,axis = 0))/np.std(data,axis = 0) #  행방향, 수직방향 평균\n",
    "print('numpy standardized data:\\n',data_stand_np)"
   ]
  },
  {
   "cell_type": "code",
   "execution_count": 18,
   "metadata": {},
   "outputs": [
    {
     "name": "stdout",
     "output_type": "stream",
     "text": [
      "scipy standardized data:\n",
      " [[-0.04627141 -0.93780378 -1.23227225  1.04827148]\n",
      " [-1.20095343 -0.44782765  0.01519618  0.29796229]\n",
      " [ 1.24722484  1.38563143  1.21707607 -1.34623377]]\n"
     ]
    }
   ],
   "source": [
    "# (2) scipy.stats 를 이용한 표준화 : zscore()\n",
    "import scipy.stats as ss\n",
    "data_stand_ss = ss.zscore(data)\n",
    "# print('raw_data:\\n',data)\n",
    "print('scipy standardized data:\\n',data_stand_ss)"
   ]
  },
  {
   "cell_type": "code",
   "execution_count": 19,
   "metadata": {},
   "outputs": [
    {
     "name": "stdout",
     "output_type": "stream",
     "text": [
      "sklearn standardized data:\n",
      " [[-0.04627141 -0.93780378 -1.23227225  1.04827148]\n",
      " [-1.20095343 -0.44782765  0.01519618  0.29796229]\n",
      " [ 1.24722484  1.38563143  1.21707607 -1.34623377]]\n"
     ]
    }
   ],
   "source": [
    "# (3) sklearn.preprocessing 를 이용한 표준화\n",
    "# StandardScaler().fit_transform()\n",
    "from sklearn.preprocessing import StandardScaler\n",
    "data_stand_skl = StandardScaler().fit_transform(data)\n",
    "print('sklearn standardized data:\\n',data_stand_skl)"
   ]
  },
  {
   "cell_type": "code",
   "execution_count": 25,
   "metadata": {},
   "outputs": [
    {
     "name": "stdout",
     "output_type": "stream",
     "text": [
      "numpy minmax data:\n",
      " [[0.47164948 0.         0.         1.        ]\n",
      " [0.         0.21088435 0.50930626 0.68665377]\n",
      " [1.         1.         1.         0.        ]]\n"
     ]
    }
   ],
   "source": [
    "# 정규화\n",
    "# (1) Numpy를 이용한 정규화\n",
    "# Z = (X - min()) / (max() - min())\n",
    "data_minmax_np = ( data - np.min(data, axis=0))/(np.max(data,axis=0) - np.min(data,axis=0))\n",
    "print('numpy minmax data:\\n',data_minmax_np)"
   ]
  },
  {
   "cell_type": "code",
   "execution_count": 26,
   "metadata": {},
   "outputs": [
    {
     "name": "stdout",
     "output_type": "stream",
     "text": [
      "sklearn minmax data:\n",
      " [[0.47164948 0.         0.         1.        ]\n",
      " [0.         0.21088435 0.50930626 0.68665377]\n",
      " [1.         1.         1.         0.        ]]\n"
     ]
    }
   ],
   "source": [
    "# (2) sklearn.preprocessing 를 이용한 정규화\n",
    "# MinMaxScaler().fit_transform()\n",
    "from sklearn.preprocessing import MinMaxScaler\n",
    "data_minmax_skl = MinMaxScaler().fit_transform(data)\n",
    "print('sklearn minmax data:\\n',data_minmax_skl)"
   ]
  },
  {
   "cell_type": "code",
   "execution_count": null,
   "metadata": {},
   "outputs": [],
   "source": [
    "# 이상치를 제거하여 표준화하기"
   ]
  },
  {
   "cell_type": "code",
   "execution_count": null,
   "metadata": {},
   "outputs": [],
   "source": []
  },
  {
   "cell_type": "code",
   "execution_count": null,
   "metadata": {},
   "outputs": [],
   "source": []
  }
 ],
 "metadata": {
  "kernelspec": {
   "display_name": "Python 3",
   "language": "python",
   "name": "python3"
  },
  "language_info": {
   "codemirror_mode": {
    "name": "ipython",
    "version": 3
   },
   "file_extension": ".py",
   "mimetype": "text/x-python",
   "name": "python",
   "nbconvert_exporter": "python",
   "pygments_lexer": "ipython3",
   "version": "3.7.6"
  }
 },
 "nbformat": 4,
 "nbformat_minor": 4
}
